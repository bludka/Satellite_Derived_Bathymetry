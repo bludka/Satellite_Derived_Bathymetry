{
 "cells": [
  {
   "cell_type": "code",
   "execution_count": 2,
   "metadata": {},
   "outputs": [],
   "source": [
    "import geopandas as gpd\n",
    "import importlib\n",
    "import json\n",
    "import lxml\n",
    "import math\n",
    "import matplotlib\n",
    "import numpy as np\n",
    "import os\n",
    "import pandas as pd\n",
    "import pyproj as proj\n",
    "import rasterio\n",
    "import requests\n",
    "import seaborn as sns\n",
    "import sys\n",
    "import zipfile\n",
    "import fiona\n"
   ]
  },
  {
   "cell_type": "code",
   "execution_count": 119,
   "metadata": {},
   "outputs": [
    {
     "name": "stdout",
     "output_type": "stream",
     "text": [
      "['USGS_EAARL_2014_med_001_001.asc', 'USGS_EAARL_2014_med_001_002.asc', 'USGS_EAARL_2014_med_001_003.asc', 'USGS_EAARL_2014_med_001_004.asc', 'USGS_EAARL_2014_med_002_001.asc', 'USGS_EAARL_2014_med_002_002.asc', 'USGS_EAARL_2014_med_002_003.asc']\n",
      "0\n",
      "1\n",
      "2\n",
      "3\n",
      "4\n",
      "5\n",
      "6\n"
     ]
    }
   ],
   "source": [
    "reef_name = 'US_Virgin_Islands'\n",
    "base_dir = '/Users/bonnieludka/Spaceship/IceSAT2/bathymetry_python_20210113'\n",
    "data_dir = os.path.join(base_dir,'data')\n",
    "reef_path = os.path.join(data_dir,reef_name)\n",
    "gt_dir = os.path.join(reef_path,'Ground_truth','USGS_EAARL_2014_med')\n",
    "\n",
    "filenames = [f for f in os.listdir(gt_dir) if f.endswith('.asc') if not f.startswith('.')]\n",
    "print(filenames)\n",
    "\n",
    "z_all = np.array([])\n",
    "lat_all = np.array([])\n",
    "lon_all = np.array([])\n",
    "for X in range(0,7):\n",
    "    print(X)\n",
    "    fpath = os.path.join(reef_path,'Ground_truth','USGS_EAARL_2014_med',filenames[X])\n",
    "    data_info= np.loadtxt(fpath, dtype = 'str',max_rows=6)\n",
    "    ncols = int(data_info[0,1])\n",
    "    nrows = int(data_info[1,1])\n",
    "    xllcorner = float(data_info[2,1])\n",
    "    yllcorner = float(data_info[3,1])\n",
    "    cellsize = float(data_info[4,1])\n",
    "    NODATA_value = float(data_info[5,1]) #does it matter if this is an int or float?\n",
    "    \n",
    "    zmflipped = np.loadtxt(fpath, skiprows=6)\n",
    "    zm = np.flipud(zmflipped)\n",
    "    \n",
    "    NX    = ncols-1\n",
    "    NY    = nrows-1\n",
    "    lon1  = xllcorner\n",
    "    lat1  = yllcorner\n",
    "    delta = cellsize \n",
    "    \n",
    "    # Create longitude and latitude coords\n",
    "    lonc = np.arange(lon1,delta*NX+lon1+delta/2,delta) \n",
    "    latc = np.arange(lat1,delta*NY+lat1+delta/2,delta)\n",
    "    \n",
    "    # create lat and lon matrix that matches z elevation matrix\n",
    "    lonm, latm = np.meshgrid(lonc, latc, sparse=False, indexing='xy')\n",
    "    \n",
    "    # unravel matrices into vectors\n",
    "    zvr = np.ravel(zm)\n",
    "    lonvr = np.ravel(lonm)\n",
    "    latvr = np.ravel(latm)\n",
    "    \n",
    "    # remove bad data\n",
    "    zv = np.delete(zvr, np.where(zvr == -9999.))\n",
    "    lonv = np.delete(lonvr, np.where(zvr == -9999.))\n",
    "    latv = np.delete(latvr, np.where(zvr == -9999.))\n",
    "    \n",
    "    # combine data\n",
    "    z_all = np.hstack((z_all,zv))\n",
    "    lat_all = np.hstack((lat_all,latv))\n",
    "    lon_all = np.hstack((lon_all,lonv))\n",
    "    print(z_all.shape)\n",
    "    print(lat_all.shape)\n",
    "    print(lon_all.shape)\n",
    "    "
   ]
  },
  {
   "cell_type": "code",
   "execution_count": 120,
   "metadata": {},
   "outputs": [
    {
     "name": "stdout",
     "output_type": "stream",
     "text": [
      "          Elevation   Latitude  Longitude\n",
      "0        -76.830002  18.274343 -65.032909\n",
      "1        -76.860001  18.274343 -65.032873\n",
      "2        -77.110001  18.274343 -65.032855\n",
      "3        -77.040001  18.274343 -65.032837\n",
      "4        -76.980003  18.274343 -65.032783\n",
      "...             ...        ...        ...\n",
      "36934569        NaN  18.352402 -64.880080\n",
      "36934570        NaN  18.352402 -64.880062\n",
      "36934571        NaN  18.352402 -64.880044\n",
      "36934572        NaN  18.352402 -64.880026\n",
      "36934573        NaN  18.352402 -64.880008\n",
      "\n",
      "[36934574 rows x 3 columns]\n",
      "/Users/bonnieludka/Spaceship/IceSAT2/bathymetry_python_20210113/data/US_Virgin_Islands/Ground_truth/USGS_EAARL_2014_med/USGS_EAARL_2014_med_all\n"
     ]
    }
   ],
   "source": [
    "# put data into dataframe\n",
    "gt_data = [z_all,lat_all,lon_all]\n",
    "df = pd.DataFrame(gt_data).T\n",
    "df.columns = ['Elevation','Latitude','Longitude']\n",
    "print(df)\n",
    "\n",
    "# save to .csv file\n",
    "save_path = os.path.join(gt_dir,'USGS_EAARL_2014_med_all.csv')\n",
    "print(save_path)\n",
    "df.to_csv(save_path)"
   ]
  },
  {
   "cell_type": "code",
   "execution_count": 129,
   "metadata": {},
   "outputs": [
    {
     "name": "stdout",
     "output_type": "stream",
     "text": [
      "(603,)\n",
      "(603,)\n",
      "(603,)\n"
     ]
    }
   ],
   "source": [
    "# Create longitude and latitude coords\n",
    "lonc   = np.arange(lon1,delta*NX+lon1+delta/2,delta) \n",
    "latc   = np.arange(lat1,delta*NY+lat1+delta/2,delta)\n",
    "\n",
    "# create lat and lon matrix that matches z elevation matrix\n",
    "lonm, latm = np.meshgrid(lonc, latc, sparse=False, indexing='xy')\n",
    "\n",
    "# unravel matrices into vectors\n",
    "zvr = np.ravel(zm)\n",
    "lonvr = np.ravel(lonm)\n",
    "latvr = np.ravel(latm)\n",
    "\n",
    "# remove bad data\n",
    "zv = np.delete(zvr, np.where(zvr == -9999.))\n",
    "lonv = np.delete(lonvr, np.where(zvr == -9999.))\n",
    "latv = np.delete(latvr, np.where(zvr == -9999.))\n",
    "    \n",
    "print(latv.shape)\n",
    "print(lonv.shape)\n",
    "print(zv.shape)\n",
    "\n"
   ]
  },
  {
   "cell_type": "code",
   "execution_count": null,
   "metadata": {},
   "outputs": [],
   "source": []
  }
 ],
 "metadata": {
  "kernelspec": {
   "display_name": "Python 3",
   "language": "python",
   "name": "python3"
  },
  "language_info": {
   "codemirror_mode": {
    "name": "ipython",
    "version": 3
   },
   "file_extension": ".py",
   "mimetype": "text/x-python",
   "name": "python",
   "nbconvert_exporter": "python",
   "pygments_lexer": "ipython3",
   "version": "3.8.3"
  }
 },
 "nbformat": 4,
 "nbformat_minor": 4
}
