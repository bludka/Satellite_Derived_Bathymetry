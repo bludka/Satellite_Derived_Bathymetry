{
 "cells": [
  {
   "cell_type": "code",
   "execution_count": 1,
   "metadata": {},
   "outputs": [],
   "source": [
    "#importing required packages\n",
    "import bs4\n",
    "import requests\n",
    "import re\n",
    "from datetime import datetime\n",
    "import json\n",
    "import os "
   ]
  },
  {
   "cell_type": "code",
   "execution_count": 2,
   "metadata": {},
   "outputs": [],
   "source": [
    "#storing API Key\n",
    "os.environ['API_KEY'] = 'c88af929-c965-4ef0-8514-7f91b58be9d6'"
   ]
  },
  {
   "cell_type": "code",
   "execution_count": 3,
   "metadata": {},
   "outputs": [],
   "source": [
    "#converting datetime object to unix time\n",
    "def unix_time(dt):\n",
    "    epoch = datetime.utcfromtimestamp(0)\n",
    "    return ((dt - epoch).total_seconds()) "
   ]
  },
  {
   "cell_type": "code",
   "execution_count": 4,
   "metadata": {},
   "outputs": [],
   "source": [
    "#hitting the API and returning the tide on the given day\n",
    "def get_tide(lat,lon,dt):\n",
    "    base_url = 'https://www.worldtides.info/api?heights' \n",
    "    ut = (unix_time(dt))\n",
    "    #generating the url\n",
    "    url = base_url + '&lat=' + str(lat) + '&lon=' + str(lon) + '&start=' + str(ut) + \\\n",
    "    '&length=1000&key=' + os.environ['API_KEY']\n",
    "    #hitting API\n",
    "    r = requests.get(url)\n",
    "    soup = bs4.BeautifulSoup(r.text, 'html.parser')\n",
    "    #extracting required information\n",
    "    tide = re.findall('\\[.*\\]', soup.text)[0].strip('[]')\n",
    "    d = json.loads(tide)\n",
    "    #returning tide on the day\n",
    "    return d['height']"
   ]
  },
  {
   "cell_type": "code",
   "execution_count": 6,
   "metadata": {},
   "outputs": [
    {
     "data": {
      "text/plain": [
       "-0.219"
      ]
     },
     "execution_count": 6,
     "metadata": {},
     "output_type": "execute_result"
    }
   ],
   "source": [
    "lat=-18.68875\n",
    "lon=-178.47685\n",
    "dt = datetime.strptime('20181210123712', '%Y%m%d%H%M%S')\n",
    "get_tide(lat,lon,dt)"
   ]
  }
 ],
 "metadata": {
  "kernelspec": {
   "display_name": "Python 3",
   "language": "python",
   "name": "python3"
  },
  "language_info": {
   "codemirror_mode": {
    "name": "ipython",
    "version": 3
   },
   "file_extension": ".py",
   "mimetype": "text/x-python",
   "name": "python",
   "nbconvert_exporter": "python",
   "pygments_lexer": "ipython3",
   "version": "3.7.3"
  }
 },
 "nbformat": 4,
 "nbformat_minor": 2
}
