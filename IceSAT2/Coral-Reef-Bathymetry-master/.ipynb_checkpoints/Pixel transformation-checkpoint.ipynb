{
 "cells": [
  {
   "cell_type": "code",
   "execution_count": 25,
   "metadata": {
    "collapsed": false
   },
   "outputs": [
    {
     "name": "stdout",
     "output_type": "stream",
     "text": [
      "The autoreload extension is already loaded. To reload it, use:\n",
      "  %reload_ext autoreload\n"
     ]
    }
   ],
   "source": [
    "%matplotlib notebook\n",
    "%load_ext autoreload\n",
    "%autoreload 2"
   ]
  },
  {
   "cell_type": "code",
   "execution_count": 73,
   "metadata": {
    "collapsed": false
   },
   "outputs": [],
   "source": [
    "#importing other python files \n",
    "import Tide_API as tide\n",
    "import Depth_profile as depth"
   ]
  },
  {
   "cell_type": "code",
   "execution_count": 74,
   "metadata": {
    "collapsed": true
   },
   "outputs": [],
   "source": [
    "#importing required packages\n",
    "from bs4 import BeautifulSoup\n",
    "import os\n",
    "import geopandas as gpd\n",
    "import pandas as pd\n",
    "from shapely.geometry import Point\n",
    "import matplotlib.pyplot as plt\n",
    "import rasterio\n",
    "import numpy as np\n",
    "from rasterio import plot\n",
    "import math\n",
    "from datetime import datetime\n",
    "\n",
    "#machine learning packages \n",
    "from sklearn.linear_model import LinearRegression\n",
    "from sklearn.metrics import mean_squared_error\n",
    "from sklearn.model_selection import train_test_split\n",
    "from scipy.stats import pearsonr\n",
    "\n",
    "#plotting packages\n",
    "from matplotlib.colors import ListedColormap\n",
    "from matplotlib import cm\n",
    "from matplotlib.colors import BoundaryNorm\n",
    "import matplotlib as mpl\n",
    "import matplotlib.pylab as plt\n",
    "import seaborn as sns\n",
    "import matplotlib.gridspec as gridspec\n",
    "from matplotlib.lines import Line2D\n",
    "from matplotlib.patches import Rectangle\n",
    "from matplotlib import patches"
   ]
  },
  {
   "cell_type": "code",
   "execution_count": null,
   "metadata": {
    "collapsed": true
   },
   "outputs": [],
   "source": []
  },
  {
   "cell_type": "code",
   "execution_count": 75,
   "metadata": {
    "collapsed": true
   },
   "outputs": [],
   "source": [
    "#method to get the metadata of the images\n",
    "def get_metadata(fp):\n",
    "    #opening file containing metadata\n",
    "    file = open(fp,\"r\")\n",
    "    contents = file.read()\n",
    "    soup = BeautifulSoup(contents,'xml')\n",
    "    #getting the time of the image and creating a datetime object \n",
    "    dt = (soup.find('SENSING_TIME').text.split('.')[0].replace('T',''))\n",
    "    dt = datetime.strptime(dt, '%Y-%m-%d%H:%M:%S')\n",
    "    #getting the coordinates of the reef from depth_profile.py\n",
    "    _,coords = depth.get_fn_coords(fp.split('/')[1])\n",
    "    \n",
    "    #getting the crs of the image \n",
    "    geo_info = soup.find('n1:Geometric_Info')\n",
    "    crs = geo_info.find('HORIZONTAL_CS_CODE').text.lower()\n",
    "    \n",
    "    #getting the number of rows and columns in the image \n",
    "    rc = geo_info.find('Size' , {'resolution':\"10\"})\n",
    "    rows = int(rc.find('NROWS').text)\n",
    "    cols = int(rc.find('NCOLS').text)\n",
    "    \n",
    "    #getting the upper left x and y coordinates \n",
    "    geo_pos = geo_info.find('Geoposition' , {'resolution':\"10\"})\n",
    "    ulx = int(geo_pos.find('ULX').text)\n",
    "    uly = int(geo_pos.find('ULY').text)\n",
    "    \n",
    "    #getting the step of the image in the x and y dircetions \n",
    "    xdim = int(geo_pos.find('XDIM').text)\n",
    "    ydim = int(geo_pos.find('YDIM').text)\n",
    "\n",
    "    file.close()\n",
    "    #storing the metadata in a dictionary \n",
    "    meta = {}\n",
    "    meta['reef_name'] = fp.split('/')[1]\n",
    "    meta['dt'] = dt\n",
    "    meta['files'] = get_out_files(meta['reef_name'])\n",
    "    meta['coords'] = coords\n",
    "    meta['crs'] = crs\n",
    "    meta['rows'] = rows\n",
    "    meta['cols'] = cols \n",
    "    meta['ulx'] = ulx\n",
    "    meta['uly'] = uly\n",
    "    meta['xdim'] = xdim\n",
    "    meta['ydim'] = ydim\n",
    "    \n",
    "    #getting the latitude and longitude to calculate the tide at the given point \n",
    "    lat = (meta['coords'][0] + meta['coords'][1])/2\n",
    "    lon = (meta['coords'][2] + meta['coords'][3])/2\n",
    "    #getting the tide on the day of the image \n",
    "    meta['tide_level'] = tide.get_tide(lat,lon,meta['dt'])\n",
    "    print(meta['tide_level'])\n",
    "    #getting a polygon representing the shape of the reef \n",
    "    meta['polygon'] = read_gjson(meta)\n",
    "    return meta"
   ]
  },
  {
   "cell_type": "code",
   "execution_count": 76,
   "metadata": {
    "collapsed": true
   },
   "outputs": [],
   "source": [
    "#function to read in the polygon representing the shape of the reef\n",
    "def read_gjson(meta):\n",
    "    #creating the filepath for the geojson file \n",
    "    fp = os.path.join('data', meta['reef_name'], str(meta['reef_name']) +'.geojson')\n",
    "    #loading in the geojson file into a geopandas dataframe \n",
    "    df = gpd.read_file(fp)\n",
    "    #setting the current crs of the dataframe \n",
    "    df.crs = {'init': 'epsg:4326'}\n",
    "    #changing the crs to that of the sentinel image \n",
    "    df = df.to_crs(meta['crs'])\n",
    "    return df"
   ]
  },
  {
   "cell_type": "code",
   "execution_count": 77,
   "metadata": {
    "collapsed": true
   },
   "outputs": [],
   "source": [
    "#method to read in the outfiles from depth_profile.py on a given reef \n",
    "def get_out_files(reef_name):\n",
    "    #opening the text file \n",
    "    path = os.path.join('data',reef_name, str(reef_name) +'.txt')\n",
    "    f = open(path,\"r\")\n",
    "    #creating an empty list \n",
    "    files = []\n",
    "    next_line = -1\n",
    "    #looping through each line in the file \n",
    "    for i,l in enumerate(f):\n",
    "        #if the line says output files, we want all the lines that come after it \n",
    "        if l == 'Output Files:\\n':\n",
    "            while 1 :\n",
    "                #loop till we meet an empty line or the end of the file \n",
    "                line = f.readline()\n",
    "                if not line or line == '\\n': \n",
    "                    break \n",
    "                #append each filename \n",
    "                files.append(line.strip())\n",
    "    f.close()\n",
    "    return files"
   ]
  },
  {
   "cell_type": "code",
   "execution_count": 78,
   "metadata": {
    "collapsed": true
   },
   "outputs": [],
   "source": [
    "#method to use the depth profiles created from ICESAT 2 data\n",
    "def prep_df(fp,meta):\n",
    "    #reading in the depths \n",
    "    df = pd.DataFrame.from_csv(fp)\n",
    "    #adjusting the heights based on the tide on the given day\n",
    "    df.Height = df.Height - meta['tide_level']\n",
    "\n",
    "    #converts the lat and lon to the crs of the image \n",
    "    df['Coordinates'] = list(zip(df.Longitude, df.Latitude))\n",
    "    df['Coordinates'] = df.Coordinates.apply(Point)\n",
    "    df = gpd.GeoDataFrame(df, geometry = 'Coordinates')\n",
    "    df.crs = {'init': 'epsg:4326'}\n",
    "    df = df.to_crs(meta['crs'])\n",
    "    return df"
   ]
  },
  {
   "cell_type": "code",
   "execution_count": 79,
   "metadata": {
    "collapsed": true
   },
   "outputs": [],
   "source": [
    "#method to clip the larger sentinel image to a smaller area of interest\n",
    "def get_bbox(coords,crs):\n",
    "    #creates a bounding box for just the reef we are interested in \n",
    "    ul = (coords[2], coords[1])\n",
    "    br = (coords[3], coords[0])\n",
    "    bbox = pd.DataFrame([ul,br], columns = ['Longitude','Latitude'])\n",
    "    bbox['Coordinates'] = list(zip(bbox.Longitude, bbox.Latitude))\n",
    "    bbox['Coordinates'] = bbox.Coordinates.apply(Point)\n",
    "    #converts the coordinates of the bounding box to the crs of the image \n",
    "    bbox = gpd.GeoDataFrame(bbox, geometry = 'Coordinates')\n",
    "    bbox.crs = {'init': 'epsg:4326'}\n",
    "    bbox = bbox.to_crs(crs)\n",
    "    return bbox"
   ]
  },
  {
   "cell_type": "code",
   "execution_count": 80,
   "metadata": {
    "collapsed": true
   },
   "outputs": [],
   "source": [
    "#method to predict the depth of the rest of the reef \n",
    "def predict_reef(reg, meta):\n",
    "    #creating lists to store required values \n",
    "    x = []\n",
    "    y = []\n",
    "    h = []\n",
    "\n",
    "    pix = []\n",
    "    log_pix = []\n",
    "    \n",
    "    #loads in the required images \n",
    "    b2_pix = meta['imgs'][0]\n",
    "    b3_pix = meta['imgs'][1]\n",
    "    b8_pix = meta['imgs'][3]\n",
    "    \n",
    "    #stores the masking threshold\n",
    "    mask_thresh = meta['mask_thresh']\n",
    "    \n",
    "    #looping through the image coordinates \n",
    "    for j in range(len(b2_pix)):\n",
    "        for i in range(len(b2_pix[0])):\n",
    "            #getting the x and y coordinates \n",
    "            x_coord = meta['bbox'].Coordinates.x[0] + ((i)* meta['xdim']) + 5\n",
    "            y_coord = meta['bbox'].Coordinates.y[0] + ((j)* meta['ydim']) - 5\n",
    "            p = Point((x_coord, y_coord))\n",
    "            #checking if the point is within the reef\n",
    "            if meta['polygon'].loc[0,'geometry'].contains(p):\n",
    "                #getting the band values minus the dark pixel value \n",
    "                bp = meta['black_val']\n",
    "                bp = meta['min_pix']\n",
    "                band_2 = max(1,b2_pix[j][i] - bp['B02'])\n",
    "                band_3 = max(1,b3_pix[j][i] - bp['B03'])\n",
    "                band_8 = (b8_pix[j][i])\n",
    "                \n",
    "                #storing the pixel value \n",
    "                pix.append([b2_pix[j][i], b3_pix[j][i],b8_pix[j][i]])\n",
    "                #storing the normalised pixel value \n",
    "                log_pix.append([band_2,band_3,band_8])\n",
    "                #if the band 8 value is higher than the threshold we predict nan for the height \n",
    "                if band_8 > mask_thresh:\n",
    "                    h.append(np.nan)\n",
    "                    x.append(x_coord)\n",
    "                    y.append(y_coord)\n",
    "                    continue\n",
    "                #else we pass the band values into the regressor and adjust with the tide on the day \n",
    "                x.append(x_coord)\n",
    "                y.append(y_coord)\n",
    "                x_feat = math.log(band_2) -  math.log(band_3)\n",
    "                \n",
    "                pred = (reg(x_feat) + meta['tide_level'])\n",
    "                if pred >= 5: \n",
    "                    h.append(np.nan)\n",
    "                else:\n",
    "                    h.append(pred)\n",
    "    #creating a dataframe with the output information and save that df as a csv \n",
    "    df = pd.DataFrame([x,y,h,pix,log_pix]).T\n",
    "    df.columns = ['x','y','height','pixels','normalised_pixel']\n",
    "#     meta['reef'] = base_fp2.split('/')[1]\n",
    "    out_fp = os.path.join('data', meta['reef_name'], 'Output', meta['reef_name']+'_out_'+ meta['dt'].strftime(\"%Y%m%d%H%M%S\") + '.csv')\n",
    "    df.to_csv(out_fp)\n",
    "    return out_fp\n"
   ]
  },
  {
   "cell_type": "code",
   "execution_count": 81,
   "metadata": {
    "collapsed": true
   },
   "outputs": [],
   "source": [
    "#method to load in all the images \n",
    "def get_images(base_fp,meta):\n",
    "    img_time = base_fp.split('/')[2].split('_')[2]\n",
    "    img_start = base_fp.split('/')[2].split('_')[-2]\n",
    "    #select the bands that we want \n",
    "    bands = ['B02','B03','B04','B08']\n",
    "    imgs = []\n",
    "    black = {}\n",
    "    #loops through the bands \n",
    "    for b in bands:\n",
    "        #creates file path \n",
    "        img_path = os.path.join(base_fp, 'IMG_DATA', (img_start + '_' + img_time + '_' + b+ '.jp2'))\n",
    "        #reads in image \n",
    "        band = rasterio.open(img_path, driver = 'JP2OpenJPEG')\n",
    "        #reads in pixel values \n",
    "        img = band.read(1)\n",
    "        #adds delta to each pixel value, so that we never take log(0)\n",
    "        delta = 0.0001\n",
    "        img = np.add(img,delta)\n",
    "        \n",
    "        #get the coordinates of the bounding box \n",
    "        start_x = meta['bbox'].loc[0,'Coordinates'].x\n",
    "        start_y = meta['bbox'].loc[0,'Coordinates'].y\n",
    "\n",
    "        sx = int((start_x - meta['ulx']) // meta['xdim'])\n",
    "        sy = int((start_y - meta['uly']) // meta['ydim'])\n",
    "\n",
    "        end_x = meta['bbox'].loc[1,'Coordinates'].x\n",
    "        end_y = meta['bbox'].loc[1,'Coordinates'].y\n",
    "\n",
    "        ex = int((end_x - meta['ulx']) // meta['xdim']) \n",
    "        ey = int((end_y - meta['uly']) // meta['ydim']) \n",
    "        \n",
    "        #clip the image to the coordinates of the bounding box \n",
    "        img = [row[sx:ex] for row in (img[sy:ey])]\n",
    "        \n",
    "        #black pixel value is not being used in our code right now, if we do use it we will need to change the coordinates\n",
    "        #clip a dark pixel corner in the image \n",
    "        dark = [x[:500] for x in img[1098:]]\n",
    "        #use the median as the dark pixel value \n",
    "        black_val = np.median(dark)\n",
    "        black[b] = black_val\n",
    "        \n",
    "        \n",
    "        imgs.append(img)\n",
    "    #store the dark pixel value in the metadata \n",
    "    meta['black_val'] = black\n",
    "    #return the images\n",
    "    return imgs"
   ]
  },
  {
   "cell_type": "code",
   "execution_count": 82,
   "metadata": {
    "collapsed": false,
    "scrolled": false
   },
   "outputs": [],
   "source": [
    "#method to see the relationship between the input variable of our model and the predicted variable \n",
    "def band_plots(data):\n",
    "    import seaborn as sns\n",
    "    import matplotlib.gridspec as gridspec\n",
    "    #gets difference between consecutive x values, allowing us to recognise if two tracks are separated\n",
    "    diffs = np.diff(data.x)\n",
    "    beams = []\n",
    "    beam = 1\n",
    "    for x in abs(diffs):\n",
    "        beams.append(beam)\n",
    "        #if the difference is more than 2000, we are working with the next beam \n",
    "        if x > 2000:\n",
    "            beam += 1\n",
    "    beams.append(beam)\n",
    "    data['beam'] = beams\n",
    "\n",
    "    #changing column names\n",
    "    data['log(band2) - log(band3)'] = data['diff']\n",
    "    data['Height (m)'] = data.h\n",
    "    \n",
    "    #creating jointplot of our data\n",
    "    g0 = sns.jointplot(data['Height (m)'], data['log(band2) - log(band3)'])\n",
    "    g0.ax_joint.scatter(data['Height (m)'],data['log(band2) - log(band3)'])\n"
   ]
  },
  {
   "cell_type": "code",
   "execution_count": 83,
   "metadata": {
    "collapsed": false
   },
   "outputs": [],
   "source": [
    "#method that trains a regression model and returns the same \n",
    "def get_regressor(base_fp):\n",
    "    #gets the metadata \n",
    "    fp = os.path.join(base_fp,'MTD_TL.xml')\n",
    "    meta = get_metadata(fp)\n",
    "    #creating a training dataset using ICESAT 2 depth profile \n",
    "    reef = pd.DataFrame()\n",
    "    for fn in meta['files']:\n",
    "        reef = pd.concat([reef,prep_df(fn,meta)])\n",
    "    #drop any nan rows \n",
    "    reef = reef.dropna()\n",
    "    #gets the bounding box of the reef \n",
    "    bbox = get_bbox(meta['coords'], meta['crs'])\n",
    "    meta['bbox'] = bbox\n",
    "    #loads in the different band images required \n",
    "    imgs = get_images(base_fp,meta)\n",
    "    meta['imgs'] = imgs\n",
    "    #creates the masking threshold for band 8 to mask land and clouds \n",
    "    b8_pix = (meta['imgs'][3])\n",
    "    meta['mask_thresh'] = np.median(b8_pix) + (np.std(b8_pix))\n",
    "    \n",
    "    #method to get just the pixel values of our bounding box \n",
    "    def get_pixel_val(coord):\n",
    "        x_index = int((coord.x - meta['bbox'].Coordinates.x[0]) // meta['xdim']) \n",
    "        y_index = int((coord.y - meta['bbox'].Coordinates.y[0]) // meta['ydim']) \n",
    "        return [data[y_index][x_index] for data in imgs]\n",
    "\n",
    "    #extracts the different band values for our image \n",
    "    def extract_pixel_cols(df):\n",
    "        df['Pixels'] = df.Coordinates.apply(get_pixel_val)\n",
    "        df['b2'] = df.Pixels.apply(lambda x: (x[0]))\n",
    "        df['b3'] = df.Pixels.apply(lambda x: (x[1]))\n",
    "        df['b8'] = df.Pixels.apply(lambda x: (x[3]))\n",
    "        #converts points with pixel values above the mask to nan\n",
    "        df['mask'] = df.b8.apply(lambda x: x if x < meta['mask_thresh'] else np.nan)\n",
    "        return df\n",
    "\n",
    "    reef = extract_pixel_cols(reef)\n",
    "    #drop all rows that are land or clouds \n",
    "    reef = reef.dropna(subset = ['mask'])\n",
    "    \n",
    "    #stroes the x and y coordinates in individual columns \n",
    "    reef['x'] = reef.Coordinates.x\n",
    "    reef['y'] = reef.Coordinates.y\n",
    "#     removing training data that are above -2m\n",
    "#     reef = reef.loc[reef.Height < -2]\n",
    "\n",
    "    \n",
    "    #gets just the required input columns \n",
    "    y = reef.loc[:,['b2','b3']] \n",
    "\n",
    "    meta['min_pix'] = {'B02': min(y.b2), 'B03': min(y.b3)}\n",
    "    bp = meta['min_pix']\n",
    "    y['b2'] = y['b2'].apply(lambda x: max(1,x - bp['B02']))\n",
    "    y['b3'] = y['b3'].apply(lambda x: max(1,x - bp['B03']))\n",
    "    y['diff'] = y.apply(lambda x: (math.log(x['b2']) - math.log(x['b3'])), axis = 1)\n",
    "    y['Height'] = reef.loc[:,['Height']]\n",
    "    y['x'] = reef.Coordinates.x\n",
    "    y['y'] = reef.Coordinates.y\n",
    "    \n",
    "    reef = remove_log_outliers(y)\n",
    "    #gets the column that we are trying to predict \n",
    "    y = reef.loc[:,['diff']]\n",
    "    x = reef.loc[:,['Height']]\n",
    "    #performs a train test split, putting 33% of the data in the test set\n",
    "    X_train, X_test, y_train, y_test = train_test_split(x, y, test_size=0.33, random_state =3)\n",
    "\n",
    "    #fit a linear regression ridge model to our data\n",
    "    from sklearn import linear_model\n",
    "    reg = linear_model.HuberRegressor()\n",
    "#     reg = LinearRegression()\n",
    "    reg.fit(X_train,y_train)\n",
    "    \n",
    "    #predicts values for our test set\n",
    "    preds = reg.predict(X_test)\n",
    "    mse_train = mean_squared_error(y_train, reg.predict(X_train))\n",
    "    mse_test = mean_squared_error(y_test,preds)\n",
    "\n",
    "    meta['mse_train'] = mse_train\n",
    "    meta['mse_test'] = mse_test\n",
    "    \n",
    "    m = reg.coef_[0]\n",
    "    \n",
    "    c = reg.intercept_\n",
    "    print(m,c)\n",
    "    line = lambda x: (x-c) /m\n",
    "\n",
    "    \n",
    "    #get the different band values and height for all x and y coordinates     \n",
    "    out = x.copy()\n",
    "    out['diff'] = y\n",
    "    out['x'] = reef['x']\n",
    "    out['y'] = reef['y']\n",
    "\n",
    "    meta['correlation'] = pearsonr(X_train.values, y_train.values)\n",
    "    return line, meta, out"
   ]
  },
  {
   "cell_type": "code",
   "execution_count": 84,
   "metadata": {
    "collapsed": true
   },
   "outputs": [],
   "source": [
    "def remove_log_outliers(data):\n",
    "    new_data = data.reset_index()\n",
    "    curr = -2\n",
    "    s = 0\n",
    "    while curr > min(data['Height']):\n",
    "        temp = new_data.loc[(new_data['Height'] < curr) & (new_data['Height'] > curr - 0.5)]\n",
    "\n",
    "        if len(temp) >= 1:\n",
    "            q1, q3= np.percentile(temp['diff'],[25,75])\n",
    "            iqr = q3-q1\n",
    "\n",
    "            outlier_range = 1.5 * iqr\n",
    "            lower_outlier = q1 - outlier_range\n",
    "            upper_outlier = q3 + outlier_range\n",
    "\n",
    "            drop_indices = temp.loc[(temp['diff'] < lower_outlier) | (temp['diff'] > upper_outlier)].index\n",
    "            s += len(drop_indices)\n",
    "\n",
    "            new_data = new_data.drop(drop_indices)\n",
    "\n",
    "        curr -= 1\n",
    "    return new_data"
   ]
  },
  {
   "cell_type": "code",
   "execution_count": 85,
   "metadata": {
    "collapsed": true
   },
   "outputs": [],
   "source": [
    "def plot_median_variance_graph(medians, variances, median_threshold, variance_threshold):\n",
    "    ax=sns.scatterplot(x = medians, y = variances, legend = 'full')\n",
    "    plt.xlabel('Median pixel value for log difference')\n",
    "    plt.ylabel('Variance pixel value for log difference')\n",
    "\n",
    "    ax.add_patch(\n",
    "        patches.Rectangle(\n",
    "            xy=(-median_threshold, -variance_threshold),  # point of origin.\n",
    "            width=2*median_threshold,\n",
    "            height=2*variance_threshold,\n",
    "            linewidth=1,\n",
    "            color='red',\n",
    "            fill=False\n",
    "        )\n",
    "    )\n",
    "\n",
    "    plt.show()"
   ]
  },
  {
   "cell_type": "code",
   "execution_count": 86,
   "metadata": {
    "collapsed": false,
    "scrolled": true
   },
   "outputs": [],
   "source": [
    "def corr_plot(datum):\n",
    "    num_blocks = int(np.ceil(np.sqrt(len(datum))))\n",
    "    fig, ax = plt.subplots(num_blocks,num_blocks, figsize = (15,20))\n",
    "    xlim = (-3, 3)\n",
    "    ylim = ( -25,0)\n",
    "    plt.setp(ax, xlim=xlim, ylim=ylim)\n",
    "    \n",
    "    axlist = []\n",
    "    for axl in ax:\n",
    "        for axl2 in axl:\n",
    "            axlist.append(axl2)\n",
    "    \n",
    "    r = 3\n",
    "    day_keys = list(datum.keys())\n",
    "    for i,dict_item in enumerate(datum.items()):\n",
    "        d = dict_item[1][2]\n",
    "        line = dict_item[1][0]\n",
    "        meta = dict_item[1][1]\n",
    "        \n",
    "        sns.scatterplot(x = d['diff'], y = d.Height, color = 'blue', ax = axlist[i])\n",
    "        sns.lineplot(x = [-r,r], y = [line(-r),line(r)], color = 'black', ax = axlist[i])\n",
    "        axlist[i].set_xlabel('Log(Blue Band) - Log(Green Band)')\n",
    "        axlist[i].set_ylabel('Depth')\n",
    "        xt = (list(axlist[i].get_xticks()))[:-1]\n",
    "        for i,x in enumerate(xt):\n",
    "            xt[i] = np.round(x,2)\n",
    "        axlist[i].set_title(meta['dt'].date())\n",
    "    plt.savefig('plot2.png')"
   ]
  },
  {
   "cell_type": "code",
   "execution_count": 87,
   "metadata": {
    "collapsed": true
   },
   "outputs": [],
   "source": [
    "#method to plot the reef depth histogram and a scatter plot of the same \n",
    "def plot_reefs(fp,data,meta,line):\n",
    "    df = pd.read_csv(fp)\n",
    "    #plot histogram of depths \n",
    "    fig, ax = plt.subplots(1,3,figsize = (28,12))\n",
    "    df['height'].plot.hist(bins = np.arange(-30,20,1), ax = ax[0])\n",
    "    ax[0].set_xlabel('Height (m)')\n",
    "    ax[0].set_ylabel('Frequency')\n",
    "    ax[0].set_title(meta['reef_name'] + ' Depth Histogram')\n",
    "    \n",
    "    #getting just depths between +- 45m \n",
    "    df = df.loc[(df.height <= 10) & (df.height >= -25)]\n",
    "    #creating a color scale at 5m intervals \n",
    "\n",
    "    cmap = cm.colors.ListedColormap(['black','navy','mediumblue' ,'blue','royalblue', 'dodgerblue', \n",
    "                                     'skyblue','limegreen',  'lime' , 'yellow'\n",
    "                                      ,'orange','tomato',\n",
    "                                     'red','firebrick' ,'maroon'])\n",
    "    bounds = np.arange(-25,11,2.5)\n",
    "\n",
    "    norm = BoundaryNorm(bounds,cmap.N)\n",
    "    \n",
    "    # extract all colors from the .jet map\n",
    "    cmaplist = [cmap(i) for i in range(cmap.N)]\n",
    "\n",
    "    # create the new map\n",
    "    cmap = mpl.colors.LinearSegmentedColormap.from_list(\n",
    "        'Custom cmap', cmaplist, cmap.N)\n",
    "\n",
    "    # create a second axes for the colorbar\n",
    "    ax2 = fig.add_axes([0.9, 0.1, 0.03, 0.8])\n",
    "    cb = mpl.colorbar.ColorbarBase(ax2, cmap=cmap, norm=norm,\n",
    "        spacing='proportional', ticks=bounds, boundaries=bounds, format='%.1f')\n",
    "\n",
    "    \n",
    "    #scatter plot of the predicted depths \n",
    "    pts = ax[2].scatter(x = df.x, y = df.y, c = df.height, s= 1, cmap = cmap, norm = norm)\n",
    "    #scatter plot of the track lines from the ICESAT 2 data\n",
    "    ax[2].scatter(x = data.x, y= data.y, s = 3, c = 'black', label = 'ICESAT-2 tracks')\n",
    "    custom_lines = [Line2D([0], [0], color='black', lw=4)]\n",
    "    ax[2].legend(custom_lines, ['ICESAT-2 tracks'])\n",
    "    ax[2].set_xlabel('x')\n",
    "    ax[2].set_ylabel('y')\n",
    "    ax[2].set_title(meta['reef_name'] + ' Depth Predictions (m)')\n",
    "\n",
    "    \n",
    "    r = 3\n",
    "    sns.scatterplot(x = data['diff'], y = data.Height, color = 'blue', ax = ax[1])\n",
    "    sns.lineplot(x = [-r,r], y = [line(-r),line(r)], color = 'black', ax = ax[1])\n",
    "    ax[1].set_xlabel('Log(Blue Band) - Log(Green Band)')\n",
    "    ax[1].set_ylabel('Depth')\n",
    "    xt = (list(ax[1].get_xticks()))[:-1]\n",
    "    \n",
    "    for i,x in enumerate(xt):\n",
    "        xt[i] = np.round(x,2)\n",
    "    ax[1].set_title(str(meta['dt'].date()) + ' -> tide - ' + str(meta['tide_level']) + 'm')\n",
    "    xlim = (-r, r)\n",
    "    ylim = ( -25,0)\n",
    "    plt.setp(ax[1], xlim=xlim, ylim=ylim)\n",
    "    \n",
    "    \n",
    "    plt.savefig(meta['reef_name'] + '-' + str(meta['dt'].date())+ '.png')\n",
    "    plt.close(fig)\n",
    "    return "
   ]
  },
  {
   "cell_type": "code",
   "execution_count": 88,
   "metadata": {
    "collapsed": false
   },
   "outputs": [],
   "source": [
    "def get_imgs(reef_name, safe_files):\n",
    "    medians = []\n",
    "    variances = []\n",
    "    median_threshold = 1\n",
    "    variance_threshold = 0.5\n",
    "    datum = {}\n",
    "    \n",
    "    for p in safe_files:\n",
    "        granule_path = os.path.join('data', reef_name,p,'GRANULE')\n",
    "        for p2 in os.listdir(granule_path):\n",
    "            if not p2.startswith('.'):\n",
    "                img_path = os.path.join(granule_path, p2)\n",
    "                r,m,d = get_regressor(img_path)\n",
    "\n",
    "                sample_median = np.median(d['diff'])\n",
    "                sample_variance = np.var(d['diff'])\n",
    "\n",
    "                medians.append(sample_median)\n",
    "                variances.append(sample_variance)\n",
    "\n",
    "                if (sample_median < median_threshold and sample_median > -median_threshold) and \\\n",
    "                sample_variance > -variance_threshold and sample_variance < variance_threshold:\n",
    "                    datum[p] = (r,m,d)\n",
    "#                     print(m['dt'].date())\n",
    "                    \n",
    "                    preds = (predict_reef(r, m))\n",
    "                    plot_reefs(preds,d,m,r)\n",
    "\n",
    "    plot_median_variance_graph(medians, variances, median_threshold, variance_threshold)\n",
    "#     corr_plot(datum)\n",
    "    return "
   ]
  },
  {
   "cell_type": "code",
   "execution_count": 89,
   "metadata": {
    "collapsed": false,
    "scrolled": true
   },
   "outputs": [],
   "source": [
    "safe_files = ['S2A_MSIL1C_20160327T221002_N0204_R129_T01KCV_20160327T220957.SAFE',\\\n",
    "'S2A_MSIL1C_20161023T220912_N0204_R129_T01KCV_20161023T221051.SAFE',\\\n",
    "'S2A_MSIL1C_20161112T220922_N0204_R129_T01KCV_20161112T220917.SAFE',\\\n",
    "'S2A_MSIL1C_20180506T220921_N0206_R129_T01KCV_20180509T081504.SAFE',\\\n",
    "'S2A_MSIL1C_20190411T220921_N0207_R129_T01KCV_20190411T233352.SAFE',\\\n",
    "'S2A_MSIL1C_20190809T220921_N0208_R129_T01KCV_20190809T233129.SAFE',\\\n",
    "'S2B_MSIL1C_20180121T220909_N0206_R129_T01KCV_20180121T231656.SAFE',\\\n",
    "'S2B_MSIL1C_20180312T220909_N0206_R129_T01KCV_20180312T232056.SAFE',\\\n",
    "'S2B_MSIL1C_20181127T220919_N0207_R129_T01KCV_20181127T232403.SAFE',\\\n",
    "'S2B_MSIL1C_20181217T220919_N0207_R129_T01KCV_20181217T232413.SAFE',\\\n",
    "'S2B_MSIL1C_20190215T220919_N0207_R129_T01KCV_20190215T232441.SAFE',\\\n",
    "'S2B_MSIL1C_20190516T220929_N0207_R129_T01KCV_20190516T232309.SAFE',\\\n",
    "'S2B_MSIL1C_20190605T220929_N0207_R129_T01KCV_20190605T233235.SAFE',\\\n",
    "'S2B_MSIL1C_20190615T220929_N0207_R129_T01KCV_20190615T232336.SAFE',\\\n",
    "'S2B_MSIL1C_20190715T220929_N0208_R129_T01KCV_20190715T232657.SAFE']"
   ]
  },
  {
   "cell_type": "code",
   "execution_count": 90,
   "metadata": {
    "collapsed": false
   },
   "outputs": [
    {
     "name": "stdout",
     "output_type": "stream",
     "text": [
      "0.423\n"
     ]
    },
    {
     "name": "stderr",
     "output_type": "stream",
     "text": [
      "/anaconda3/lib/python3.7/site-packages/ipykernel_launcher.py:4: FutureWarning: from_csv is deprecated. Please use read_csv(...) instead. Note that some of the default arguments are different, so please refer to the documentation for from_csv when changing your function calls\n",
      "  after removing the cwd from sys.path.\n",
      "/anaconda3/lib/python3.7/site-packages/sklearn/utils/validation.py:761: DataConversionWarning: A column-vector y was passed when a 1d array was expected. Please change the shape of y to (n_samples, ), for example using ravel().\n",
      "  y = column_or_1d(y, warn=True)\n"
     ]
    },
    {
     "name": "stdout",
     "output_type": "stream",
     "text": [
      "-0.0583320041170346 -0.3659490883638755\n",
      "-0.081\n"
     ]
    },
    {
     "name": "stderr",
     "output_type": "stream",
     "text": [
      "/anaconda3/lib/python3.7/site-packages/ipykernel_launcher.py:4: FutureWarning: from_csv is deprecated. Please use read_csv(...) instead. Note that some of the default arguments are different, so please refer to the documentation for from_csv when changing your function calls\n",
      "  after removing the cwd from sys.path.\n",
      "/anaconda3/lib/python3.7/site-packages/rasterio/__init__.py:216: NotGeoreferencedWarning: Dataset has no geotransform set. The identity matrix may be returned.\n",
      "  s = DatasetReader(path, driver=driver, sharing=sharing, **kwargs)\n",
      "/anaconda3/lib/python3.7/site-packages/sklearn/utils/validation.py:761: DataConversionWarning: A column-vector y was passed when a 1d array was expected. Please change the shape of y to (n_samples, ), for example using ravel().\n",
      "  y = column_or_1d(y, warn=True)\n"
     ]
    },
    {
     "name": "stdout",
     "output_type": "stream",
     "text": [
      "-0.049241408873085354 4.3860082804174825\n",
      "-0.603\n"
     ]
    },
    {
     "name": "stderr",
     "output_type": "stream",
     "text": [
      "/anaconda3/lib/python3.7/site-packages/ipykernel_launcher.py:4: FutureWarning: from_csv is deprecated. Please use read_csv(...) instead. Note that some of the default arguments are different, so please refer to the documentation for from_csv when changing your function calls\n",
      "  after removing the cwd from sys.path.\n",
      "/anaconda3/lib/python3.7/site-packages/rasterio/__init__.py:216: NotGeoreferencedWarning: Dataset has no geotransform set. The identity matrix may be returned.\n",
      "  s = DatasetReader(path, driver=driver, sharing=sharing, **kwargs)\n",
      "/anaconda3/lib/python3.7/site-packages/rasterio/__init__.py:216: NotGeoreferencedWarning: Dataset has no geotransform set. The identity matrix may be returned.\n",
      "  s = DatasetReader(path, driver=driver, sharing=sharing, **kwargs)\n",
      "/anaconda3/lib/python3.7/site-packages/sklearn/utils/validation.py:761: DataConversionWarning: A column-vector y was passed when a 1d array was expected. Please change the shape of y to (n_samples, ), for example using ravel().\n",
      "  y = column_or_1d(y, warn=True)\n"
     ]
    },
    {
     "name": "stdout",
     "output_type": "stream",
     "text": [
      "-0.03435815980410296 -0.9390216864584333\n",
      "0.238\n"
     ]
    },
    {
     "name": "stderr",
     "output_type": "stream",
     "text": [
      "/anaconda3/lib/python3.7/site-packages/ipykernel_launcher.py:4: FutureWarning: from_csv is deprecated. Please use read_csv(...) instead. Note that some of the default arguments are different, so please refer to the documentation for from_csv when changing your function calls\n",
      "  after removing the cwd from sys.path.\n",
      "/anaconda3/lib/python3.7/site-packages/sklearn/utils/validation.py:761: DataConversionWarning: A column-vector y was passed when a 1d array was expected. Please change the shape of y to (n_samples, ), for example using ravel().\n",
      "  y = column_or_1d(y, warn=True)\n"
     ]
    },
    {
     "name": "stdout",
     "output_type": "stream",
     "text": [
      "-0.0942372705827567 -0.44692455220455835\n",
      "0.418\n"
     ]
    },
    {
     "name": "stderr",
     "output_type": "stream",
     "text": [
      "/anaconda3/lib/python3.7/site-packages/ipykernel_launcher.py:4: FutureWarning: from_csv is deprecated. Please use read_csv(...) instead. Note that some of the default arguments are different, so please refer to the documentation for from_csv when changing your function calls\n",
      "  after removing the cwd from sys.path.\n",
      "/anaconda3/lib/python3.7/site-packages/rasterio/__init__.py:216: NotGeoreferencedWarning: Dataset has no geotransform set. The identity matrix may be returned.\n",
      "  s = DatasetReader(path, driver=driver, sharing=sharing, **kwargs)\n",
      "/anaconda3/lib/python3.7/site-packages/rasterio/__init__.py:216: NotGeoreferencedWarning: Dataset has no geotransform set. The identity matrix may be returned.\n",
      "  s = DatasetReader(path, driver=driver, sharing=sharing, **kwargs)\n",
      "/anaconda3/lib/python3.7/site-packages/sklearn/utils/validation.py:761: DataConversionWarning: A column-vector y was passed when a 1d array was expected. Please change the shape of y to (n_samples, ), for example using ravel().\n",
      "  y = column_or_1d(y, warn=True)\n"
     ]
    },
    {
     "name": "stdout",
     "output_type": "stream",
     "text": [
      "-0.06041759583579757 3.707789919462531\n",
      "-0.381\n"
     ]
    },
    {
     "name": "stderr",
     "output_type": "stream",
     "text": [
      "/anaconda3/lib/python3.7/site-packages/ipykernel_launcher.py:4: FutureWarning: from_csv is deprecated. Please use read_csv(...) instead. Note that some of the default arguments are different, so please refer to the documentation for from_csv when changing your function calls\n",
      "  after removing the cwd from sys.path.\n",
      "/anaconda3/lib/python3.7/site-packages/sklearn/utils/validation.py:761: DataConversionWarning: A column-vector y was passed when a 1d array was expected. Please change the shape of y to (n_samples, ), for example using ravel().\n",
      "  y = column_or_1d(y, warn=True)\n"
     ]
    },
    {
     "name": "stdout",
     "output_type": "stream",
     "text": [
      "-0.08678373201279661 -0.32755630625982163\n",
      "0.484\n"
     ]
    },
    {
     "name": "stderr",
     "output_type": "stream",
     "text": [
      "/anaconda3/lib/python3.7/site-packages/ipykernel_launcher.py:4: FutureWarning: from_csv is deprecated. Please use read_csv(...) instead. Note that some of the default arguments are different, so please refer to the documentation for from_csv when changing your function calls\n",
      "  after removing the cwd from sys.path.\n",
      "/anaconda3/lib/python3.7/site-packages/sklearn/utils/validation.py:761: DataConversionWarning: A column-vector y was passed when a 1d array was expected. Please change the shape of y to (n_samples, ), for example using ravel().\n",
      "  y = column_or_1d(y, warn=True)\n"
     ]
    },
    {
     "name": "stdout",
     "output_type": "stream",
     "text": [
      "-0.0970774305800506 -0.3287022113239416\n",
      "-0.313\n"
     ]
    },
    {
     "name": "stderr",
     "output_type": "stream",
     "text": [
      "/anaconda3/lib/python3.7/site-packages/ipykernel_launcher.py:4: FutureWarning: from_csv is deprecated. Please use read_csv(...) instead. Note that some of the default arguments are different, so please refer to the documentation for from_csv when changing your function calls\n",
      "  after removing the cwd from sys.path.\n",
      "/anaconda3/lib/python3.7/site-packages/sklearn/utils/validation.py:761: DataConversionWarning: A column-vector y was passed when a 1d array was expected. Please change the shape of y to (n_samples, ), for example using ravel().\n",
      "  y = column_or_1d(y, warn=True)\n"
     ]
    },
    {
     "name": "stdout",
     "output_type": "stream",
     "text": [
      "-0.07072753576489002 -0.4535809250839959\n",
      "0.562\n"
     ]
    },
    {
     "name": "stderr",
     "output_type": "stream",
     "text": [
      "/anaconda3/lib/python3.7/site-packages/ipykernel_launcher.py:4: FutureWarning: from_csv is deprecated. Please use read_csv(...) instead. Note that some of the default arguments are different, so please refer to the documentation for from_csv when changing your function calls\n",
      "  after removing the cwd from sys.path.\n",
      "/anaconda3/lib/python3.7/site-packages/sklearn/utils/validation.py:761: DataConversionWarning: A column-vector y was passed when a 1d array was expected. Please change the shape of y to (n_samples, ), for example using ravel().\n",
      "  y = column_or_1d(y, warn=True)\n"
     ]
    },
    {
     "name": "stdout",
     "output_type": "stream",
     "text": [
      "-0.05101190696604946 -0.5056454769170662\n",
      "-0.266\n"
     ]
    },
    {
     "name": "stderr",
     "output_type": "stream",
     "text": [
      "/anaconda3/lib/python3.7/site-packages/ipykernel_launcher.py:4: FutureWarning: from_csv is deprecated. Please use read_csv(...) instead. Note that some of the default arguments are different, so please refer to the documentation for from_csv when changing your function calls\n",
      "  after removing the cwd from sys.path.\n",
      "/anaconda3/lib/python3.7/site-packages/rasterio/__init__.py:216: NotGeoreferencedWarning: Dataset has no geotransform set. The identity matrix may be returned.\n",
      "  s = DatasetReader(path, driver=driver, sharing=sharing, **kwargs)\n",
      "/anaconda3/lib/python3.7/site-packages/sklearn/utils/validation.py:761: DataConversionWarning: A column-vector y was passed when a 1d array was expected. Please change the shape of y to (n_samples, ), for example using ravel().\n",
      "  y = column_or_1d(y, warn=True)\n"
     ]
    },
    {
     "name": "stdout",
     "output_type": "stream",
     "text": [
      "-0.0640426731661594 -0.5044533554918371\n",
      "-0.426\n"
     ]
    },
    {
     "name": "stderr",
     "output_type": "stream",
     "text": [
      "/anaconda3/lib/python3.7/site-packages/ipykernel_launcher.py:4: FutureWarning: from_csv is deprecated. Please use read_csv(...) instead. Note that some of the default arguments are different, so please refer to the documentation for from_csv when changing your function calls\n",
      "  after removing the cwd from sys.path.\n",
      "/anaconda3/lib/python3.7/site-packages/rasterio/__init__.py:216: NotGeoreferencedWarning: Dataset has no geotransform set. The identity matrix may be returned.\n",
      "  s = DatasetReader(path, driver=driver, sharing=sharing, **kwargs)\n",
      "/anaconda3/lib/python3.7/site-packages/rasterio/__init__.py:216: NotGeoreferencedWarning: Dataset has no geotransform set. The identity matrix may be returned.\n",
      "  s = DatasetReader(path, driver=driver, sharing=sharing, **kwargs)\n",
      "/anaconda3/lib/python3.7/site-packages/sklearn/utils/validation.py:761: DataConversionWarning: A column-vector y was passed when a 1d array was expected. Please change the shape of y to (n_samples, ), for example using ravel().\n",
      "  y = column_or_1d(y, warn=True)\n"
     ]
    },
    {
     "name": "stdout",
     "output_type": "stream",
     "text": [
      "-0.05750591352341987 -4.563314940590392\n",
      "-0.628\n"
     ]
    },
    {
     "name": "stderr",
     "output_type": "stream",
     "text": [
      "/anaconda3/lib/python3.7/site-packages/ipykernel_launcher.py:4: FutureWarning: from_csv is deprecated. Please use read_csv(...) instead. Note that some of the default arguments are different, so please refer to the documentation for from_csv when changing your function calls\n",
      "  after removing the cwd from sys.path.\n",
      "/anaconda3/lib/python3.7/site-packages/rasterio/__init__.py:216: NotGeoreferencedWarning: Dataset has no geotransform set. The identity matrix may be returned.\n",
      "  s = DatasetReader(path, driver=driver, sharing=sharing, **kwargs)\n",
      "/anaconda3/lib/python3.7/site-packages/rasterio/__init__.py:216: NotGeoreferencedWarning: Dataset has no geotransform set. The identity matrix may be returned.\n",
      "  s = DatasetReader(path, driver=driver, sharing=sharing, **kwargs)\n",
      "/anaconda3/lib/python3.7/site-packages/rasterio/__init__.py:216: NotGeoreferencedWarning: Dataset has no geotransform set. The identity matrix may be returned.\n",
      "  s = DatasetReader(path, driver=driver, sharing=sharing, **kwargs)\n",
      "/anaconda3/lib/python3.7/site-packages/sklearn/utils/validation.py:761: DataConversionWarning: A column-vector y was passed when a 1d array was expected. Please change the shape of y to (n_samples, ), for example using ravel().\n",
      "  y = column_or_1d(y, warn=True)\n"
     ]
    },
    {
     "name": "stdout",
     "output_type": "stream",
     "text": [
      "-0.022715560819059746 -0.10467614441798218\n",
      "0.382\n"
     ]
    },
    {
     "name": "stderr",
     "output_type": "stream",
     "text": [
      "/anaconda3/lib/python3.7/site-packages/ipykernel_launcher.py:4: FutureWarning: from_csv is deprecated. Please use read_csv(...) instead. Note that some of the default arguments are different, so please refer to the documentation for from_csv when changing your function calls\n",
      "  after removing the cwd from sys.path.\n",
      "/anaconda3/lib/python3.7/site-packages/sklearn/utils/validation.py:761: DataConversionWarning: A column-vector y was passed when a 1d array was expected. Please change the shape of y to (n_samples, ), for example using ravel().\n",
      "  y = column_or_1d(y, warn=True)\n"
     ]
    },
    {
     "name": "stdout",
     "output_type": "stream",
     "text": [
      "-0.09608538839224895 -0.45209029024883296\n",
      "-0.524\n"
     ]
    },
    {
     "name": "stderr",
     "output_type": "stream",
     "text": [
      "/anaconda3/lib/python3.7/site-packages/ipykernel_launcher.py:4: FutureWarning: from_csv is deprecated. Please use read_csv(...) instead. Note that some of the default arguments are different, so please refer to the documentation for from_csv when changing your function calls\n",
      "  after removing the cwd from sys.path.\n",
      "/anaconda3/lib/python3.7/site-packages/sklearn/utils/validation.py:761: DataConversionWarning: A column-vector y was passed when a 1d array was expected. Please change the shape of y to (n_samples, ), for example using ravel().\n",
      "  y = column_or_1d(y, warn=True)\n"
     ]
    },
    {
     "name": "stdout",
     "output_type": "stream",
     "text": [
      "-0.08522570382150388 -0.3026525265305294\n",
      "-0.379\n"
     ]
    },
    {
     "name": "stderr",
     "output_type": "stream",
     "text": [
      "/anaconda3/lib/python3.7/site-packages/ipykernel_launcher.py:4: FutureWarning: from_csv is deprecated. Please use read_csv(...) instead. Note that some of the default arguments are different, so please refer to the documentation for from_csv when changing your function calls\n",
      "  after removing the cwd from sys.path.\n",
      "/anaconda3/lib/python3.7/site-packages/rasterio/__init__.py:216: NotGeoreferencedWarning: Dataset has no geotransform set. The identity matrix may be returned.\n",
      "  s = DatasetReader(path, driver=driver, sharing=sharing, **kwargs)\n",
      "/anaconda3/lib/python3.7/site-packages/rasterio/__init__.py:216: NotGeoreferencedWarning: Dataset has no geotransform set. The identity matrix may be returned.\n",
      "  s = DatasetReader(path, driver=driver, sharing=sharing, **kwargs)\n",
      "/anaconda3/lib/python3.7/site-packages/rasterio/__init__.py:216: NotGeoreferencedWarning: Dataset has no geotransform set. The identity matrix may be returned.\n",
      "  s = DatasetReader(path, driver=driver, sharing=sharing, **kwargs)\n",
      "/anaconda3/lib/python3.7/site-packages/rasterio/__init__.py:216: NotGeoreferencedWarning: Dataset has no geotransform set. The identity matrix may be returned.\n",
      "  s = DatasetReader(path, driver=driver, sharing=sharing, **kwargs)\n",
      "/anaconda3/lib/python3.7/site-packages/sklearn/utils/validation.py:761: DataConversionWarning: A column-vector y was passed when a 1d array was expected. Please change the shape of y to (n_samples, ), for example using ravel().\n",
      "  y = column_or_1d(y, warn=True)\n"
     ]
    },
    {
     "name": "stdout",
     "output_type": "stream",
     "text": [
      "-0.07561753911973405 0.03134441238858285\n"
     ]
    },
    {
     "data": {
      "image/png": "[encoded data removed]",
      "text/plain": [
       "<Figure size 432x288 with 1 Axes>"
      ]
     },
     "metadata": {
      "needs_background": "light"
     },
     "output_type": "display_data"
    }
   ],
   "source": [
    "get_imgs('Nasau', safe_files)"
   ]
  },
  {
   "cell_type": "code",
   "execution_count": 31,
   "metadata": {
    "collapsed": true
   },
   "outputs": [],
   "source": [
    "import os\n",
    "import pandas as pd\n",
    "import matplotlib.pyplot as plt\n",
    "import numpy as np"
   ]
  },
  {
   "cell_type": "code",
   "execution_count": 7,
   "metadata": {
    "collapsed": false
   },
   "outputs": [],
   "source": [
    "files = []\n",
    "fp = os.path.join('data','Nasau','Output')\n",
    "for p in os.listdir(fp):\n",
    "    if (p.endswith('.csv')):\n",
    "        files.append(pd.read_csv(os.path.join(fp,p)))"
   ]
  },
  {
   "cell_type": "code",
   "execution_count": 23,
   "metadata": {
    "collapsed": false
   },
   "outputs": [],
   "source": [
    "nasau = pd.concat(files)"
   ]
  },
  {
   "cell_type": "code",
   "execution_count": 24,
   "metadata": {
    "collapsed": false
   },
   "outputs": [],
   "source": [
    "mean_df = nasau.groupby(['x','y'])['height'].mean().reset_index()"
   ]
  },
  {
   "cell_type": "code",
   "execution_count": 25,
   "metadata": {
    "collapsed": false
   },
   "outputs": [],
   "source": [
    "var_df = nasau.groupby(['x','y'])['height'].var().reset_index()"
   ]
  },
  {
   "cell_type": "code",
   "execution_count": 91,
   "metadata": {
    "collapsed": true
   },
   "outputs": [],
   "source": [
    "def plt_df(df):\n",
    "    fig, ax = plt.subplots(1,2,figsize = (28,12))\n",
    "    df['height'].plot.hist(bins = np.arange(-30,20,1), ax = ax[0])\n",
    "    ax[0].set_xlabel('Height (m)')\n",
    "    ax[0].set_ylabel('Frequency')\n",
    "    ax[0].set_title('Depth Histogram')\n",
    "    \n",
    "    \n",
    "    \n",
    "\n",
    "    cmap = cm.colors.ListedColormap(['black','navy','mediumblue' ,'blue','royalblue', 'dodgerblue', \n",
    "                                     'skyblue','limegreen',  'lime' , 'yellow'\n",
    "                                      ,'orange','tomato',\n",
    "                                     'red','firebrick' ,'maroon'])\n",
    "    bounds = np.arange(-25,11,2.5)\n",
    "\n",
    "    norm = BoundaryNorm(bounds,cmap.N)\n",
    "    \n",
    "    # extract all colors from the .jet map\n",
    "    cmaplist = [cmap(i) for i in range(cmap.N)]\n",
    "\n",
    "    # create the new map\n",
    "    cmap = mpl.colors.LinearSegmentedColormap.from_list(\n",
    "        'Custom cmap', cmaplist, cmap.N)\n",
    "\n",
    "    # create a second axes for the colorbar\n",
    "    ax2 = fig.add_axes([0.9, 0.1, 0.03, 0.8])\n",
    "    cb = mpl.colorbar.ColorbarBase(ax2, cmap=cmap, norm=norm,\n",
    "        spacing='proportional', ticks=bounds, boundaries=bounds, format='%.1f')\n",
    "\n",
    "    \n",
    "    #scatter plot of the predicted depths \n",
    "    pts = ax[1].scatter(x = df.x, y = df.y, c = df.height, s= 1, cmap = cmap, norm = norm)\n",
    "    #scatter plot of the track lines from the ICESAT 2 data\n",
    "    ax[1].scatter(x = data.x, y= data.y, s = 3, c = 'black', label = 'ICESAT-2 tracks')\n",
    "    custom_lines = [Line2D([0], [0], color='black', lw=4)]\n",
    "    ax[1].set_xlabel('x')\n",
    "    ax[1].set_ylabel('y')\n",
    "    ax[1].set_title(meta['Nasau Depth Predictions (m)')\n",
    "\n",
    "    \n"
   ]
  },
  {
   "cell_type": "code",
   "execution_count": 92,
   "metadata": {
    "collapsed": false
   },
   "outputs": [
    {
     "ename": "IndexError",
     "evalue": "index 2 is out of bounds for axis 0 with size 2",
     "output_type": "error",
     "traceback": [
      "\u001b[0;31m---------------------------------------------------------------------------\u001b[0m",
      "\u001b[0;31mIndexError\u001b[0m                                Traceback (most recent call last)",
      "\u001b[0;32m<ipython-input-92-b97ed2704c23>\u001b[0m in \u001b[0;36m<module>\u001b[0;34m\u001b[0m\n\u001b[0;32m----> 1\u001b[0;31m \u001b[0mplt_df\u001b[0m\u001b[0;34m(\u001b[0m\u001b[0mmean_df\u001b[0m\u001b[0;34m)\u001b[0m\u001b[0;34m\u001b[0m\u001b[0;34m\u001b[0m\u001b[0m\n\u001b[0m",
      "\u001b[0;32m<ipython-input-91-ccd08bf6a4b5>\u001b[0m in \u001b[0;36mplt_df\u001b[0;34m(df)\u001b[0m\n\u001b[1;32m     31\u001b[0m \u001b[0;34m\u001b[0m\u001b[0m\n\u001b[1;32m     32\u001b[0m     \u001b[0;31m#scatter plot of the predicted depths\u001b[0m\u001b[0;34m\u001b[0m\u001b[0;34m\u001b[0m\u001b[0;34m\u001b[0m\u001b[0m\n\u001b[0;32m---> 33\u001b[0;31m     \u001b[0mpts\u001b[0m \u001b[0;34m=\u001b[0m \u001b[0max\u001b[0m\u001b[0;34m[\u001b[0m\u001b[0;36m2\u001b[0m\u001b[0;34m]\u001b[0m\u001b[0;34m.\u001b[0m\u001b[0mscatter\u001b[0m\u001b[0;34m(\u001b[0m\u001b[0mx\u001b[0m \u001b[0;34m=\u001b[0m \u001b[0mdf\u001b[0m\u001b[0;34m.\u001b[0m\u001b[0mx\u001b[0m\u001b[0;34m,\u001b[0m \u001b[0my\u001b[0m \u001b[0;34m=\u001b[0m \u001b[0mdf\u001b[0m\u001b[0;34m.\u001b[0m\u001b[0my\u001b[0m\u001b[0;34m,\u001b[0m \u001b[0mc\u001b[0m \u001b[0;34m=\u001b[0m \u001b[0mdf\u001b[0m\u001b[0;34m.\u001b[0m\u001b[0mheight\u001b[0m\u001b[0;34m,\u001b[0m \u001b[0ms\u001b[0m\u001b[0;34m=\u001b[0m \u001b[0;36m1\u001b[0m\u001b[0;34m,\u001b[0m \u001b[0mcmap\u001b[0m \u001b[0;34m=\u001b[0m \u001b[0mcmap\u001b[0m\u001b[0;34m,\u001b[0m \u001b[0mnorm\u001b[0m \u001b[0;34m=\u001b[0m \u001b[0mnorm\u001b[0m\u001b[0;34m)\u001b[0m\u001b[0;34m\u001b[0m\u001b[0;34m\u001b[0m\u001b[0m\n\u001b[0m\u001b[1;32m     34\u001b[0m     \u001b[0;31m#scatter plot of the track lines from the ICESAT 2 data\u001b[0m\u001b[0;34m\u001b[0m\u001b[0;34m\u001b[0m\u001b[0;34m\u001b[0m\u001b[0m\n\u001b[1;32m     35\u001b[0m     \u001b[0max\u001b[0m\u001b[0;34m[\u001b[0m\u001b[0;36m2\u001b[0m\u001b[0;34m]\u001b[0m\u001b[0;34m.\u001b[0m\u001b[0mscatter\u001b[0m\u001b[0;34m(\u001b[0m\u001b[0mx\u001b[0m \u001b[0;34m=\u001b[0m \u001b[0mdata\u001b[0m\u001b[0;34m.\u001b[0m\u001b[0mx\u001b[0m\u001b[0;34m,\u001b[0m \u001b[0my\u001b[0m\u001b[0;34m=\u001b[0m \u001b[0mdata\u001b[0m\u001b[0;34m.\u001b[0m\u001b[0my\u001b[0m\u001b[0;34m,\u001b[0m \u001b[0ms\u001b[0m \u001b[0;34m=\u001b[0m \u001b[0;36m3\u001b[0m\u001b[0;34m,\u001b[0m \u001b[0mc\u001b[0m \u001b[0;34m=\u001b[0m \u001b[0;34m'black'\u001b[0m\u001b[0;34m,\u001b[0m \u001b[0mlabel\u001b[0m \u001b[0;34m=\u001b[0m \u001b[0;34m'ICESAT-2 tracks'\u001b[0m\u001b[0;34m)\u001b[0m\u001b[0;34m\u001b[0m\u001b[0;34m\u001b[0m\u001b[0m\n",
      "\u001b[0;31mIndexError\u001b[0m: index 2 is out of bounds for axis 0 with size 2"
     ]
    },
    {
     "data": {
      "image/png": "[encoded data removed]",
      "text/plain": [
       "<Figure size 2016x864 with 3 Axes>"
      ]
     },
     "metadata": {
      "needs_background": "light"
     },
     "output_type": "display_data"
    }
   ],
   "source": [
    "plt_df(mean_df)"
   ]
  },
  {
   "cell_type": "code",
   "execution_count": 3,
   "metadata": {
    "collapsed": false
   },
   "outputs": [],
   "source": [
    "import pyspark.ml as M\n",
    "import pyspark.sql.functions as F\n",
    "import pyspark.sql.types as T\n",
    "from pyspark.sql import SQLContext\n",
    "from pyspark.sql import DataFrameReader"
   ]
  },
  {
   "cell_type": "code",
   "execution_count": 101,
   "metadata": {
    "collapsed": false
   },
   "outputs": [
    {
     "ename": "AttributeError",
     "evalue": "'property' object has no attribute 'csv'",
     "output_type": "error",
     "traceback": [
      "\u001b[0;31m---------------------------------------------------------------------------\u001b[0m",
      "\u001b[0;31mAttributeError\u001b[0m                            Traceback (most recent call last)",
      "\u001b[0;32m<ipython-input-101-5727525c57c2>\u001b[0m in \u001b[0;36m<module>\u001b[0;34m\u001b[0m\n\u001b[0;32m----> 1\u001b[0;31m \u001b[0mSQLContext\u001b[0m\u001b[0;34m.\u001b[0m\u001b[0mread\u001b[0m\u001b[0;34m.\u001b[0m\u001b[0mcsv\u001b[0m\u001b[0;34m(\u001b[0m\u001b[0mfiles\u001b[0m\u001b[0;34m[\u001b[0m\u001b[0;34m-\u001b[0m\u001b[0;36m1\u001b[0m\u001b[0;34m]\u001b[0m\u001b[0;34m)\u001b[0m\u001b[0;34m\u001b[0m\u001b[0;34m\u001b[0m\u001b[0m\n\u001b[0m",
      "\u001b[0;31mAttributeError\u001b[0m: 'property' object has no attribute 'csv'"
     ]
    }
   ],
   "source": [
    "SQLContext.read.csv(files[-1])"
   ]
  },
  {
   "cell_type": "code",
   "execution_count": 4,
   "metadata": {
    "collapsed": true
   },
   "outputs": [],
   "source": [
    "import pyspark"
   ]
  },
  {
   "cell_type": "code",
   "execution_count": 109,
   "metadata": {
    "collapsed": false
   },
   "outputs": [
    {
     "ename": "NameError",
     "evalue": "name 'sc' is not defined",
     "output_type": "error",
     "traceback": [
      "\u001b[0;31m---------------------------------------------------------------------------\u001b[0m",
      "\u001b[0;31mNameError\u001b[0m                                 Traceback (most recent call last)",
      "\u001b[0;32m<ipython-input-109-83801ee67cec>\u001b[0m in \u001b[0;36m<module>\u001b[0;34m\u001b[0m\n\u001b[1;32m      1\u001b[0m \u001b[0;34m\u001b[0m\u001b[0m\n\u001b[0;32m----> 2\u001b[0;31m \u001b[0msqlContext\u001b[0m \u001b[0;34m=\u001b[0m \u001b[0mSQLContext\u001b[0m\u001b[0;34m(\u001b[0m\u001b[0msc\u001b[0m\u001b[0;34m)\u001b[0m\u001b[0;34m\u001b[0m\u001b[0;34m\u001b[0m\u001b[0m\n\u001b[0m\u001b[1;32m      3\u001b[0m \u001b[0mdf\u001b[0m \u001b[0;34m=\u001b[0m \u001b[0msqlContext\u001b[0m\u001b[0;34m.\u001b[0m\u001b[0mread\u001b[0m\u001b[0;34m.\u001b[0m\u001b[0mload\u001b[0m\u001b[0;34m(\u001b[0m\u001b[0mfiles\u001b[0m\u001b[0;34m[\u001b[0m\u001b[0;34m-\u001b[0m\u001b[0;36m1\u001b[0m\u001b[0;34m]\u001b[0m\u001b[0;34m,\u001b[0m \u001b[0mformat\u001b[0m\u001b[0;34m=\u001b[0m\u001b[0;34m'com.databricks.spark.csv'\u001b[0m\u001b[0;34m,\u001b[0m\u001b[0mheader\u001b[0m\u001b[0;34m=\u001b[0m\u001b[0;34m'true'\u001b[0m\u001b[0;34m,\u001b[0m \u001b[0minferSchema\u001b[0m\u001b[0;34m=\u001b[0m\u001b[0;34m'true'\u001b[0m\u001b[0;34m)\u001b[0m\u001b[0;34m\u001b[0m\u001b[0;34m\u001b[0m\u001b[0m\n",
      "\u001b[0;31mNameError\u001b[0m: name 'sc' is not defined"
     ]
    }
   ],
   "source": [
    "\n",
    "sqlContext = SQLContext(sc)\n",
    "df = sqlContext.read.load(files[-1], format='com.databricks.spark.csv',header='true', inferSchema='true')\n"
   ]
  },
  {
   "cell_type": "code",
   "execution_count": 112,
   "metadata": {
    "collapsed": false
   },
   "outputs": [],
   "source": [
    "from pyspark.sql import SparkSession"
   ]
  },
  {
   "cell_type": "code",
   "execution_count": 111,
   "metadata": {
    "collapsed": false
   },
   "outputs": [
    {
     "ename": "AttributeError",
     "evalue": "module 'pyspark' has no attribute 'read'",
     "output_type": "error",
     "traceback": [
      "\u001b[0;31m---------------------------------------------------------------------------\u001b[0m",
      "\u001b[0;31mAttributeError\u001b[0m                            Traceback (most recent call last)",
      "\u001b[0;32m<ipython-input-111-bdf85c3d82ef>\u001b[0m in \u001b[0;36m<module>\u001b[0;34m\u001b[0m\n\u001b[0;32m----> 1\u001b[0;31m \u001b[0mpyspark\u001b[0m\u001b[0;34m.\u001b[0m\u001b[0mread\u001b[0m\u001b[0;34m.\u001b[0m\u001b[0mcsv\u001b[0m\u001b[0;34m(\u001b[0m\u001b[0;34m\"gs://my_buckets/poland_ks\"\u001b[0m\u001b[0;34m)\u001b[0m\u001b[0;34m\u001b[0m\u001b[0;34m\u001b[0m\u001b[0m\n\u001b[0m",
      "\u001b[0;31mAttributeError\u001b[0m: module 'pyspark' has no attribute 'read'"
     ]
    }
   ],
   "source": [
    "pyspark.read.csv(\"gs://my_buckets/poland_ks\") "
   ]
  },
  {
   "cell_type": "code",
   "execution_count": 115,
   "metadata": {
    "collapsed": false
   },
   "outputs": [
    {
     "ename": "ValueError",
     "evalue": "Cannot run multiple SparkContexts at once; existing SparkContext(app=Read_CSV, master=local[*]) created by __init__ at <ipython-input-113-4be1f5b355f2>:4 ",
     "output_type": "error",
     "traceback": [
      "\u001b[0;31m---------------------------------------------------------------------------\u001b[0m",
      "\u001b[0;31mValueError\u001b[0m                                Traceback (most recent call last)",
      "\u001b[0;32m<ipython-input-115-daa6a9ac180b>\u001b[0m in \u001b[0;36m<module>\u001b[0;34m\u001b[0m\n\u001b[1;32m      2\u001b[0m \u001b[0;34m\u001b[0m\u001b[0m\n\u001b[1;32m      3\u001b[0m \u001b[0mconf\u001b[0m \u001b[0;34m=\u001b[0m \u001b[0mSparkConf\u001b[0m\u001b[0;34m(\u001b[0m\u001b[0;34m)\u001b[0m\u001b[0;34m.\u001b[0m\u001b[0msetAppName\u001b[0m\u001b[0;34m(\u001b[0m\u001b[0;34m\"Read_CSV\"\u001b[0m\u001b[0;34m)\u001b[0m\u001b[0;34m\u001b[0m\u001b[0;34m\u001b[0m\u001b[0m\n\u001b[0;32m----> 4\u001b[0;31m \u001b[0msc\u001b[0m \u001b[0;34m=\u001b[0m \u001b[0mSparkContext\u001b[0m\u001b[0;34m(\u001b[0m\u001b[0mconf\u001b[0m\u001b[0;34m=\u001b[0m\u001b[0mconf\u001b[0m\u001b[0;34m)\u001b[0m\u001b[0;34m\u001b[0m\u001b[0;34m\u001b[0m\u001b[0m\n\u001b[0m\u001b[1;32m      5\u001b[0m \u001b[0msqlContext\u001b[0m \u001b[0;34m=\u001b[0m \u001b[0msql\u001b[0m\u001b[0;34m.\u001b[0m\u001b[0mSQLContext\u001b[0m\u001b[0;34m(\u001b[0m\u001b[0msc\u001b[0m\u001b[0;34m)\u001b[0m\u001b[0;34m\u001b[0m\u001b[0;34m\u001b[0m\u001b[0m\n\u001b[1;32m      6\u001b[0m \u001b[0mdf\u001b[0m \u001b[0;34m=\u001b[0m \u001b[0msqlContext\u001b[0m\u001b[0;34m.\u001b[0m\u001b[0mread\u001b[0m\u001b[0;34m.\u001b[0m\u001b[0mcsv\u001b[0m\u001b[0;34m(\u001b[0m\u001b[0mfiles\u001b[0m\u001b[0;34m[\u001b[0m\u001b[0;36m0\u001b[0m\u001b[0;34m]\u001b[0m\u001b[0;34m)\u001b[0m\u001b[0;34m\u001b[0m\u001b[0;34m\u001b[0m\u001b[0m\n",
      "\u001b[0;32m/anaconda3/lib/python3.7/site-packages/pyspark/context.py\u001b[0m in \u001b[0;36m__init__\u001b[0;34m(self, master, appName, sparkHome, pyFiles, environment, batchSize, serializer, conf, gateway, jsc, profiler_cls)\u001b[0m\n\u001b[1;32m    131\u001b[0m                     \" note this option will be removed in Spark 3.0\")\n\u001b[1;32m    132\u001b[0m \u001b[0;34m\u001b[0m\u001b[0m\n\u001b[0;32m--> 133\u001b[0;31m         \u001b[0mSparkContext\u001b[0m\u001b[0;34m.\u001b[0m\u001b[0m_ensure_initialized\u001b[0m\u001b[0;34m(\u001b[0m\u001b[0mself\u001b[0m\u001b[0;34m,\u001b[0m \u001b[0mgateway\u001b[0m\u001b[0;34m=\u001b[0m\u001b[0mgateway\u001b[0m\u001b[0;34m,\u001b[0m \u001b[0mconf\u001b[0m\u001b[0;34m=\u001b[0m\u001b[0mconf\u001b[0m\u001b[0;34m)\u001b[0m\u001b[0;34m\u001b[0m\u001b[0;34m\u001b[0m\u001b[0m\n\u001b[0m\u001b[1;32m    134\u001b[0m         \u001b[0;32mtry\u001b[0m\u001b[0;34m:\u001b[0m\u001b[0;34m\u001b[0m\u001b[0;34m\u001b[0m\u001b[0m\n\u001b[1;32m    135\u001b[0m             self._do_init(master, appName, sparkHome, pyFiles, environment, batchSize, serializer,\n",
      "\u001b[0;32m/anaconda3/lib/python3.7/site-packages/pyspark/context.py\u001b[0m in \u001b[0;36m_ensure_initialized\u001b[0;34m(cls, instance, gateway, conf)\u001b[0m\n\u001b[1;32m    330\u001b[0m                         \u001b[0;34m\" created by %s at %s:%s \"\u001b[0m\u001b[0;34m\u001b[0m\u001b[0;34m\u001b[0m\u001b[0m\n\u001b[1;32m    331\u001b[0m                         % (currentAppName, currentMaster,\n\u001b[0;32m--> 332\u001b[0;31m                             callsite.function, callsite.file, callsite.linenum))\n\u001b[0m\u001b[1;32m    333\u001b[0m                 \u001b[0;32melse\u001b[0m\u001b[0;34m:\u001b[0m\u001b[0;34m\u001b[0m\u001b[0;34m\u001b[0m\u001b[0m\n\u001b[1;32m    334\u001b[0m                     \u001b[0mSparkContext\u001b[0m\u001b[0;34m.\u001b[0m\u001b[0m_active_spark_context\u001b[0m \u001b[0;34m=\u001b[0m \u001b[0minstance\u001b[0m\u001b[0;34m\u001b[0m\u001b[0;34m\u001b[0m\u001b[0m\n",
      "\u001b[0;31mValueError\u001b[0m: Cannot run multiple SparkContexts at once; existing SparkContext(app=Read_CSV, master=local[*]) created by __init__ at <ipython-input-113-4be1f5b355f2>:4 "
     ]
    }
   ],
   "source": [
    "from pyspark import sql, SparkConf, SparkContext\n",
    "\n",
    "conf = SparkConf().setAppName(\"Read_CSV\")\n",
    "sc = SparkContext(conf=conf)\n",
    "sqlContext = sql.SQLContext(sc)\n",
    "\n"
   ]
  },
  {
   "cell_type": "code",
   "execution_count": 121,
   "metadata": {
    "collapsed": true
   },
   "outputs": [],
   "source": [
    "df = sqlContext.read.format(\"csv\").option(\"header\", \"true\").load(files[0])\n",
    "for i,file in enumerate(files):\n",
    "    if i == 0: continue\n",
    "    temp_df = sqlContext.read.format(\"csv\").option(\"header\", \"true\").load(file)\n",
    "    df = df.union(temp_df)"
   ]
  },
  {
   "cell_type": "code",
   "execution_count": 128,
   "metadata": {
    "collapsed": false
   },
   "outputs": [
    {
     "ename": "IllegalArgumentException",
     "evalue": "'Unsupported class file major version 55'",
     "output_type": "error",
     "traceback": [
      "\u001b[0;31m---------------------------------------------------------------------------\u001b[0m",
      "\u001b[0;31mPy4JJavaError\u001b[0m                             Traceback (most recent call last)",
      "\u001b[0;32m/anaconda3/lib/python3.7/site-packages/pyspark/sql/utils.py\u001b[0m in \u001b[0;36mdeco\u001b[0;34m(*a, **kw)\u001b[0m\n\u001b[1;32m     62\u001b[0m         \u001b[0;32mtry\u001b[0m\u001b[0;34m:\u001b[0m\u001b[0;34m\u001b[0m\u001b[0;34m\u001b[0m\u001b[0m\n\u001b[0;32m---> 63\u001b[0;31m             \u001b[0;32mreturn\u001b[0m \u001b[0mf\u001b[0m\u001b[0;34m(\u001b[0m\u001b[0;34m*\u001b[0m\u001b[0ma\u001b[0m\u001b[0;34m,\u001b[0m \u001b[0;34m**\u001b[0m\u001b[0mkw\u001b[0m\u001b[0;34m)\u001b[0m\u001b[0;34m\u001b[0m\u001b[0;34m\u001b[0m\u001b[0m\n\u001b[0m\u001b[1;32m     64\u001b[0m         \u001b[0;32mexcept\u001b[0m \u001b[0mpy4j\u001b[0m\u001b[0;34m.\u001b[0m\u001b[0mprotocol\u001b[0m\u001b[0;34m.\u001b[0m\u001b[0mPy4JJavaError\u001b[0m \u001b[0;32mas\u001b[0m \u001b[0me\u001b[0m\u001b[0;34m:\u001b[0m\u001b[0;34m\u001b[0m\u001b[0;34m\u001b[0m\u001b[0m\n",
      "\u001b[0;32m/anaconda3/lib/python3.7/site-packages/py4j/protocol.py\u001b[0m in \u001b[0;36mget_return_value\u001b[0;34m(answer, gateway_client, target_id, name)\u001b[0m\n\u001b[1;32m    327\u001b[0m                     \u001b[0;34m\"An error occurred while calling {0}{1}{2}.\\n\"\u001b[0m\u001b[0;34m.\u001b[0m\u001b[0;34m\u001b[0m\u001b[0;34m\u001b[0m\u001b[0m\n\u001b[0;32m--> 328\u001b[0;31m                     format(target_id, \".\", name), value)\n\u001b[0m\u001b[1;32m    329\u001b[0m             \u001b[0;32melse\u001b[0m\u001b[0;34m:\u001b[0m\u001b[0;34m\u001b[0m\u001b[0;34m\u001b[0m\u001b[0m\n",
      "\u001b[0;31mPy4JJavaError\u001b[0m: An error occurred while calling o361.count.\n: java.lang.IllegalArgumentException: Unsupported class file major version 55\n\tat org.apache.xbean.asm6.ClassReader.<init>(ClassReader.java:166)\n\tat org.apache.xbean.asm6.ClassReader.<init>(ClassReader.java:148)\n\tat org.apache.xbean.asm6.ClassReader.<init>(ClassReader.java:136)\n\tat org.apache.xbean.asm6.ClassReader.<init>(ClassReader.java:237)\n\tat org.apache.spark.util.ClosureCleaner$.getClassReader(ClosureCleaner.scala:49)\n\tat org.apache.spark.util.FieldAccessFinder$$anon$3$$anonfun$visitMethodInsn$2.apply(ClosureCleaner.scala:517)\n\tat org.apache.spark.util.FieldAccessFinder$$anon$3$$anonfun$visitMethodInsn$2.apply(ClosureCleaner.scala:500)\n\tat scala.collection.TraversableLike$WithFilter$$anonfun$foreach$1.apply(TraversableLike.scala:733)\n\tat scala.collection.mutable.HashMap$$anon$1$$anonfun$foreach$2.apply(HashMap.scala:134)\n\tat scala.collection.mutable.HashMap$$anon$1$$anonfun$foreach$2.apply(HashMap.scala:134)\n\tat scala.collection.mutable.HashTable$class.foreachEntry(HashTable.scala:236)\n\tat scala.collection.mutable.HashMap.foreachEntry(HashMap.scala:40)\n\tat scala.collection.mutable.HashMap$$anon$1.foreach(HashMap.scala:134)\n\tat scala.collection.TraversableLike$WithFilter.foreach(TraversableLike.scala:732)\n\tat org.apache.spark.util.FieldAccessFinder$$anon$3.visitMethodInsn(ClosureCleaner.scala:500)\n\tat org.apache.xbean.asm6.ClassReader.readCode(ClassReader.java:2175)\n\tat org.apache.xbean.asm6.ClassReader.readMethod(ClassReader.java:1238)\n\tat org.apache.xbean.asm6.ClassReader.accept(ClassReader.java:631)\n\tat org.apache.xbean.asm6.ClassReader.accept(ClassReader.java:355)\n\tat org.apache.spark.util.ClosureCleaner$$anonfun$org$apache$spark$util$ClosureCleaner$$clean$14.apply(ClosureCleaner.scala:307)\n\tat org.apache.spark.util.ClosureCleaner$$anonfun$org$apache$spark$util$ClosureCleaner$$clean$14.apply(ClosureCleaner.scala:306)\n\tat scala.collection.immutable.List.foreach(List.scala:392)\n\tat org.apache.spark.util.ClosureCleaner$.org$apache$spark$util$ClosureCleaner$$clean(ClosureCleaner.scala:306)\n\tat org.apache.spark.util.ClosureCleaner$.clean(ClosureCleaner.scala:162)\n\tat org.apache.spark.SparkContext.clean(SparkContext.scala:2326)\n\tat org.apache.spark.SparkContext.runJob(SparkContext.scala:2100)\n\tat org.apache.spark.SparkContext.runJob(SparkContext.scala:2126)\n\tat org.apache.spark.rdd.RDD$$anonfun$collect$1.apply(RDD.scala:945)\n\tat org.apache.spark.rdd.RDDOperationScope$.withScope(RDDOperationScope.scala:151)\n\tat org.apache.spark.rdd.RDDOperationScope$.withScope(RDDOperationScope.scala:112)\n\tat org.apache.spark.rdd.RDD.withScope(RDD.scala:363)\n\tat org.apache.spark.rdd.RDD.collect(RDD.scala:944)\n\tat org.apache.spark.sql.execution.SparkPlan.executeCollect(SparkPlan.scala:299)\n\tat org.apache.spark.sql.Dataset$$anonfun$count$1.apply(Dataset.scala:2830)\n\tat org.apache.spark.sql.Dataset$$anonfun$count$1.apply(Dataset.scala:2829)\n\tat org.apache.spark.sql.Dataset$$anonfun$53.apply(Dataset.scala:3364)\n\tat org.apache.spark.sql.execution.SQLExecution$$anonfun$withNewExecutionId$1.apply(SQLExecution.scala:78)\n\tat org.apache.spark.sql.execution.SQLExecution$.withSQLConfPropagated(SQLExecution.scala:125)\n\tat org.apache.spark.sql.execution.SQLExecution$.withNewExecutionId(SQLExecution.scala:73)\n\tat org.apache.spark.sql.Dataset.withAction(Dataset.scala:3363)\n\tat org.apache.spark.sql.Dataset.count(Dataset.scala:2829)\n\tat java.base/jdk.internal.reflect.NativeMethodAccessorImpl.invoke0(Native Method)\n\tat java.base/jdk.internal.reflect.NativeMethodAccessorImpl.invoke(NativeMethodAccessorImpl.java:62)\n\tat java.base/jdk.internal.reflect.DelegatingMethodAccessorImpl.invoke(DelegatingMethodAccessorImpl.java:43)\n\tat java.base/java.lang.reflect.Method.invoke(Method.java:566)\n\tat py4j.reflection.MethodInvoker.invoke(MethodInvoker.java:244)\n\tat py4j.reflection.ReflectionEngine.invoke(ReflectionEngine.java:357)\n\tat py4j.Gateway.invoke(Gateway.java:282)\n\tat py4j.commands.AbstractCommand.invokeMethod(AbstractCommand.java:132)\n\tat py4j.commands.CallCommand.execute(CallCommand.java:79)\n\tat py4j.GatewayConnection.run(GatewayConnection.java:238)\n\tat java.base/java.lang.Thread.run(Thread.java:834)\n",
      "\nDuring handling of the above exception, another exception occurred:\n",
      "\u001b[0;31mIllegalArgumentException\u001b[0m                  Traceback (most recent call last)",
      "\u001b[0;32m<ipython-input-128-3c9a60fd698f>\u001b[0m in \u001b[0;36m<module>\u001b[0;34m\u001b[0m\n\u001b[0;32m----> 1\u001b[0;31m \u001b[0mdf\u001b[0m\u001b[0;34m.\u001b[0m\u001b[0mcount\u001b[0m\u001b[0;34m(\u001b[0m\u001b[0;34m)\u001b[0m\u001b[0;34m\u001b[0m\u001b[0;34m\u001b[0m\u001b[0m\n\u001b[0m",
      "\u001b[0;32m/anaconda3/lib/python3.7/site-packages/pyspark/sql/dataframe.py\u001b[0m in \u001b[0;36mcount\u001b[0;34m(self)\u001b[0m\n\u001b[1;32m    520\u001b[0m         \u001b[0;36m2\u001b[0m\u001b[0;34m\u001b[0m\u001b[0;34m\u001b[0m\u001b[0m\n\u001b[1;32m    521\u001b[0m         \"\"\"\n\u001b[0;32m--> 522\u001b[0;31m         \u001b[0;32mreturn\u001b[0m \u001b[0mint\u001b[0m\u001b[0;34m(\u001b[0m\u001b[0mself\u001b[0m\u001b[0;34m.\u001b[0m\u001b[0m_jdf\u001b[0m\u001b[0;34m.\u001b[0m\u001b[0mcount\u001b[0m\u001b[0;34m(\u001b[0m\u001b[0;34m)\u001b[0m\u001b[0;34m)\u001b[0m\u001b[0;34m\u001b[0m\u001b[0;34m\u001b[0m\u001b[0m\n\u001b[0m\u001b[1;32m    523\u001b[0m \u001b[0;34m\u001b[0m\u001b[0m\n\u001b[1;32m    524\u001b[0m     \u001b[0;34m@\u001b[0m\u001b[0mignore_unicode_prefix\u001b[0m\u001b[0;34m\u001b[0m\u001b[0;34m\u001b[0m\u001b[0m\n",
      "\u001b[0;32m/anaconda3/lib/python3.7/site-packages/py4j/java_gateway.py\u001b[0m in \u001b[0;36m__call__\u001b[0;34m(self, *args)\u001b[0m\n\u001b[1;32m   1255\u001b[0m         \u001b[0manswer\u001b[0m \u001b[0;34m=\u001b[0m \u001b[0mself\u001b[0m\u001b[0;34m.\u001b[0m\u001b[0mgateway_client\u001b[0m\u001b[0;34m.\u001b[0m\u001b[0msend_command\u001b[0m\u001b[0;34m(\u001b[0m\u001b[0mcommand\u001b[0m\u001b[0;34m)\u001b[0m\u001b[0;34m\u001b[0m\u001b[0;34m\u001b[0m\u001b[0m\n\u001b[1;32m   1256\u001b[0m         return_value = get_return_value(\n\u001b[0;32m-> 1257\u001b[0;31m             answer, self.gateway_client, self.target_id, self.name)\n\u001b[0m\u001b[1;32m   1258\u001b[0m \u001b[0;34m\u001b[0m\u001b[0m\n\u001b[1;32m   1259\u001b[0m         \u001b[0;32mfor\u001b[0m \u001b[0mtemp_arg\u001b[0m \u001b[0;32min\u001b[0m \u001b[0mtemp_args\u001b[0m\u001b[0;34m:\u001b[0m\u001b[0;34m\u001b[0m\u001b[0;34m\u001b[0m\u001b[0m\n",
      "\u001b[0;32m/anaconda3/lib/python3.7/site-packages/pyspark/sql/utils.py\u001b[0m in \u001b[0;36mdeco\u001b[0;34m(*a, **kw)\u001b[0m\n\u001b[1;32m     77\u001b[0m                 \u001b[0;32mraise\u001b[0m \u001b[0mQueryExecutionException\u001b[0m\u001b[0;34m(\u001b[0m\u001b[0ms\u001b[0m\u001b[0;34m.\u001b[0m\u001b[0msplit\u001b[0m\u001b[0;34m(\u001b[0m\u001b[0;34m': '\u001b[0m\u001b[0;34m,\u001b[0m \u001b[0;36m1\u001b[0m\u001b[0;34m)\u001b[0m\u001b[0;34m[\u001b[0m\u001b[0;36m1\u001b[0m\u001b[0;34m]\u001b[0m\u001b[0;34m,\u001b[0m \u001b[0mstackTrace\u001b[0m\u001b[0;34m)\u001b[0m\u001b[0;34m\u001b[0m\u001b[0;34m\u001b[0m\u001b[0m\n\u001b[1;32m     78\u001b[0m             \u001b[0;32mif\u001b[0m \u001b[0ms\u001b[0m\u001b[0;34m.\u001b[0m\u001b[0mstartswith\u001b[0m\u001b[0;34m(\u001b[0m\u001b[0;34m'java.lang.IllegalArgumentException: '\u001b[0m\u001b[0;34m)\u001b[0m\u001b[0;34m:\u001b[0m\u001b[0;34m\u001b[0m\u001b[0;34m\u001b[0m\u001b[0m\n\u001b[0;32m---> 79\u001b[0;31m                 \u001b[0;32mraise\u001b[0m \u001b[0mIllegalArgumentException\u001b[0m\u001b[0;34m(\u001b[0m\u001b[0ms\u001b[0m\u001b[0;34m.\u001b[0m\u001b[0msplit\u001b[0m\u001b[0;34m(\u001b[0m\u001b[0;34m': '\u001b[0m\u001b[0;34m,\u001b[0m \u001b[0;36m1\u001b[0m\u001b[0;34m)\u001b[0m\u001b[0;34m[\u001b[0m\u001b[0;36m1\u001b[0m\u001b[0;34m]\u001b[0m\u001b[0;34m,\u001b[0m \u001b[0mstackTrace\u001b[0m\u001b[0;34m)\u001b[0m\u001b[0;34m\u001b[0m\u001b[0;34m\u001b[0m\u001b[0m\n\u001b[0m\u001b[1;32m     80\u001b[0m             \u001b[0;32mraise\u001b[0m\u001b[0;34m\u001b[0m\u001b[0;34m\u001b[0m\u001b[0m\n\u001b[1;32m     81\u001b[0m     \u001b[0;32mreturn\u001b[0m \u001b[0mdeco\u001b[0m\u001b[0;34m\u001b[0m\u001b[0;34m\u001b[0m\u001b[0m\n",
      "\u001b[0;31mIllegalArgumentException\u001b[0m: 'Unsupported class file major version 55'"
     ]
    }
   ],
   "source": [
    "df.count()"
   ]
  },
  {
   "cell_type": "code",
   "execution_count": null,
   "metadata": {
    "collapsed": true
   },
   "outputs": [],
   "source": []
  }
 ],
 "metadata": {
  "kernelspec": {
   "display_name": "Python 3",
   "language": "python",
   "name": "python3"
  },
  "language_info": {
   "codemirror_mode": {
    "name": "ipython",
    "version": 3
   },
   "file_extension": ".py",
   "mimetype": "text/x-python",
   "name": "python",
   "nbconvert_exporter": "python",
   "pygments_lexer": "ipython3",
   "version": "3.7.3"
  }
 },
 "nbformat": 4,
 "nbformat_minor": 2
}
