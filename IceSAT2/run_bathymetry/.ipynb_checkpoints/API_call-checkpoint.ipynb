{
 "cells": [
  {
   "cell_type": "code",
   "execution_count": 1,
   "metadata": {},
   "outputs": [],
   "source": [
    "import requests\n",
    "import getpass\n",
    "import socket \n",
    "import json\n",
    "import zipfile\n",
    "import io\n",
    "import math\n",
    "import os \n",
    "import shutil\n",
    "import time\n",
    "import matplotlib.pyplot as plt\n",
    "import h5py\n",
    "import re\n",
    "import requests\n",
    "import bs4\n",
    "import subprocess\n",
    "import numpy\n",
    "# To read KML files with geopandas, we will need to enable KML support in fiona (disabled by default)\n",
    "import pprint\n",
    "from statistics import mean\n",
    "from requests.auth import HTTPBasicAuth\n",
    "from xml.etree import ElementTree as ET"
   ]
  },
  {
   "cell_type": "markdown",
   "metadata": {},
   "source": [
    "## Get Token"
   ]
  },
  {
   "cell_type": "code",
   "execution_count": 2,
   "metadata": {},
   "outputs": [
    {
     "name": "stdout",
     "output_type": "stream",
     "text": [
      "Earthdata Login password: ········\n"
     ]
    }
   ],
   "source": [
    "uid = 'aborsa'\n",
    "email = 'aborsa@ucsd.edu'\n",
    "pswd = getpass.getpass('Earthdata Login password: ')"
   ]
  },
  {
   "cell_type": "code",
   "execution_count": 3,
   "metadata": {},
   "outputs": [
    {
     "name": "stdout",
     "output_type": "stream",
     "text": [
      "<Response [201]>\n",
      "99C1EA83-9503-021B-D75A-1B970350E20C\n"
     ]
    }
   ],
   "source": [
    "token_api_url = 'https://cmr.earthdata.nasa.gov/legacy-services/rest/tokens'\n",
    "hostname = socket.gethostname()\n",
    "ip = socket.gethostbyname(hostname)\n",
    "\n",
    "data = {\n",
    "    'token': {\n",
    "        'username': uid,\n",
    "        'password': pswd,\n",
    "        'client_id': 'NSIDC_client_id',\n",
    "        'user_ip_address': ip\n",
    "    }\n",
    "}\n",
    "\n",
    "headers={'Accept': 'application/json'}\n",
    "response = requests.post(token_api_url, json=data, headers=headers)\n",
    "print(response)\n",
    "token = json.loads(response.content)['token']['id']\n",
    "print(token)"
   ]
  },
  {
   "cell_type": "markdown",
   "metadata": {},
   "source": [
    "## Set Parameters"
   ]
  },
  {
   "cell_type": "code",
   "execution_count": 12,
   "metadata": {},
   "outputs": [],
   "source": [
    "#Set API request parameters\n",
    "short_name = 'ATL03'\n",
    "dataset_version = '003'\n",
    "time_start = '2018-10-13T00:00:00Z'\n",
    "page_size = 100\n",
    "page_num = 1\n",
    "request_mode = 'async'\n",
    "\n",
    "# Bounding Box spatial parameter in 'W,S,E,N' format\n",
    "# Input lower left longitude in decimal degrees\n",
    "LL_lon = '-178.55'\n",
    "# Input lower left latitude in decimal degrees\n",
    "LL_lat = '-18.76'\n",
    "# Input upper right longitude in decimal degrees\n",
    "UR_lon = '-178.40'\n",
    "# Input upper right latitude in decimal degrees\n",
    "UR_lat = '-18.61'\n",
    "\n",
    "#Bounding box subsetting (bbox) in same format as bounding_box\n",
    "bounding_box = LL_lon + ',' + LL_lat + ',' + UR_lon + ',' + UR_lat\n",
    "bbox = bounding_box\n",
    "\n",
    "# bounding box input:\n",
    "search_params = {\n",
    "    'short_name': short_name,\n",
    "    'version': dataset_version,\n",
    "    'temporal': time_start,\n",
    "    'page_size': 100,\n",
    "    'page_num': 1,\n",
    "    'bounding_box': bounding_box,\n",
    "    }\n",
    "download_params = {\n",
    "    'short_name': short_name,\n",
    "    'version': dataset_version,\n",
    "    'temporal': time_start,\n",
    "     #'time': time_var, \n",
    "    'bounding_box': bounding_box,\n",
    "     'bbox': bbox, \n",
    "     #'format': reformat, \n",
    "     #'projection': projection, \n",
    "     #'projection_parameters': projection_parameters, \n",
    "     #'Coverage': coverage, \n",
    "    'page_size': 100,\n",
    "     #'page_num': 1,\n",
    "    'token': token,\n",
    "    'request_mode': request_mode, \n",
    "     #'agent': agent, \n",
    "    'email': email,\n",
    "    }\n",
    "\n",
    "#Set Earthdata search URL\n",
    "granule_search_url = 'https://cmr.earthdata.nasa.gov/search/granules'\n",
    "\n",
    "#Set NSIDC data access base URL\n",
    "base_url = 'https://n5eil02u.ecs.nsidc.org/egi/request'"
   ]
  },
  {
   "cell_type": "code",
   "execution_count": 5,
   "metadata": {},
   "outputs": [
    {
     "name": "stdout",
     "output_type": "stream",
     "text": [
      "The available versions of  ATL03  are  ['002', '003']\n"
     ]
    }
   ],
   "source": [
    "# Check available versions\n",
    "params = {\n",
    "    'short_name': short_name\n",
    "}\n",
    "\n",
    "cmr_collections_url = 'https://cmr.earthdata.nasa.gov/search/collections.json'\n",
    "response = requests.get(cmr_collections_url, params=params)\n",
    "results = json.loads(response.content)\n",
    "\n",
    "# Find all instances of 'version_id' in metadata and print most recent version number\n",
    "\n",
    "versions = [el['version_id'] for el in results['feed']['entry']]\n",
    "latest_version = max(versions)\n",
    "print('The available versions of ', short_name, ' are ', versions)"
   ]
  },
  {
   "cell_type": "markdown",
   "metadata": {},
   "source": [
    "## Get dataset information"
   ]
  },
  {
   "cell_type": "code",
   "execution_count": 6,
   "metadata": {},
   "outputs": [
    {
     "name": "stdout",
     "output_type": "stream",
     "text": [
      "There are 24 granules of ATL03 version 003 over my area and time of interest.\n"
     ]
    }
   ],
   "source": [
    "granules = []\n",
    "headers={'Accept': 'application/json'}\n",
    "\n",
    "while True:\n",
    "    response = requests.get(granule_search_url, params=search_params, headers=headers)\n",
    "    results = json.loads(response.content)\n",
    "\n",
    "    if len(results['feed']['entry']) == 0:\n",
    "        # Out of results, so break out of loop\n",
    "        break\n",
    "\n",
    "    # Collect results and increment page_num\n",
    "    granules.extend(results['feed']['entry'])\n",
    "    search_params['page_num'] += 1\n",
    "\n",
    "print('There are', len(granules), 'granules of', short_name, 'version', dataset_version, 'over my area and time of interest.')"
   ]
  },
  {
   "cell_type": "code",
   "execution_count": 7,
   "metadata": {},
   "outputs": [
    {
     "name": "stdout",
     "output_type": "stream",
     "text": [
      "https://n5eil01u.ecs.nsidc.org/DP7/ATLAS/ATL03.003/2018.11.15/ATL03_20181115015855_07240114_003_01.h5\n",
      "https://n5eil01u.ecs.nsidc.org/DP7/ATLAS/ATL03.003/2018.12.10/ATL03_20181210123712_11130108_003_01.h5\n",
      "https://n5eil01u.ecs.nsidc.org/DP7/ATLAS/ATL03.003/2018.12.14/ATL03_20181214003443_11660114_003_01.h5\n",
      "https://n5eil01u.ecs.nsidc.org/DP7/ATLAS/ATL03.003/2019.01.08/ATL03_20190108111319_01680208_003_01.h5\n",
      "https://n5eil01u.ecs.nsidc.org/DP7/ATLAS/ATL03.003/2019.02.13/ATL03_20190213213840_07240214_003_01.h5\n",
      "https://n5eil01u.ecs.nsidc.org/DP7/ATLAS/ATL03.003/2019.03.11/ATL03_20190311081711_11130208_003_01.h5\n",
      "https://n5eil01u.ecs.nsidc.org/DP7/ATLAS/ATL03.003/2019.03.14/ATL03_20190314201443_11660214_003_01.h5\n",
      "https://n5eil01u.ecs.nsidc.org/DP7/ATLAS/ATL03.003/2019.04.09/ATL03_20190409065311_01680308_003_01.h5\n",
      "https://n5eil01u.ecs.nsidc.org/DP7/ATLAS/ATL03.003/2019.05.15/ATL03_20190515171820_07240314_003_01.h5\n",
      "https://n5eil01u.ecs.nsidc.org/DP7/ATLAS/ATL03.003/2019.06.10/ATL03_20190610035647_11130308_003_01.h5\n",
      "https://n5eil01u.ecs.nsidc.org/DP7/ATLAS/ATL03.003/2019.06.13/ATL03_20190613155419_11660314_003_01.h5\n",
      "https://n5eil01u.ecs.nsidc.org/DP7/ATLAS/ATL03.003/2019.08.14/ATL03_20190814125803_07240414_003_01.h5\n",
      "https://n5eil01u.ecs.nsidc.org/DP7/ATLAS/ATL03.003/2019.09.08/ATL03_20190908233636_11130408_003_01.h5\n",
      "https://n5eil01u.ecs.nsidc.org/DP7/ATLAS/ATL03.003/2019.09.12/ATL03_20190912113408_11660414_003_01.h5\n",
      "https://n5eil01u.ecs.nsidc.org/DP7/ATLAS/ATL03.003/2019.10.07/ATL03_20191007221242_01680508_003_01.h5\n",
      "https://n5eil01u.ecs.nsidc.org/DP7/ATLAS/ATL03.003/2019.11.13/ATL03_20191113083758_07240514_003_01.h5\n",
      "https://n5eil01u.ecs.nsidc.org/DP7/ATLAS/ATL03.003/2019.12.08/ATL03_20191208191625_11130508_003_01.h5\n",
      "https://n5eil01u.ecs.nsidc.org/DP7/ATLAS/ATL03.003/2019.12.12/ATL03_20191212071357_11660514_003_01.h5\n",
      "https://n5eil01u.ecs.nsidc.org/DP7/ATLAS/ATL03.003/2020.01.06/ATL03_20200106175227_01680608_003_01.h5\n",
      "https://n5eil01u.ecs.nsidc.org/DP7/ATLAS/ATL03.003/2020.02.12/ATL03_20200212041740_07240614_003_01.h5\n",
      "https://n5eil01u.ecs.nsidc.org/DP7/ATLAS/ATL03.003/2020.03.08/ATL03_20200308145611_11130608_003_01.h5\n",
      "https://n5eil01u.ecs.nsidc.org/DP7/ATLAS/ATL03.003/2020.03.12/ATL03_20200312025346_11660614_003_01.h5\n",
      "https://n5eil01u.ecs.nsidc.org/DP7/ATLAS/ATL03.003/2020.04.06/ATL03_20200406133213_01680708_003_01.h5\n",
      "https://n5eil01u.ecs.nsidc.org/DP7/ATLAS/ATL03.003/2020.05.12/ATL03_20200512235731_07240714_003_01.h5\n",
      "541.307034850125\n",
      "12991.368836403\n"
     ]
    }
   ],
   "source": [
    "#print(*granules, sep = \"\\n\") \n",
    "\n",
    "for granule in granules:\n",
    "    print(granule['links'][0]['href'])\n",
    "\n",
    "# Average/Total size of granules in MB\n",
    "granule_sizes = [float(granule['granule_size']) for granule in granules]\n",
    "print(sum(granule_sizes)/len(granules))\n",
    "print(sum(granule_sizes))"
   ]
  },
  {
   "cell_type": "markdown",
   "metadata": {},
   "source": [
    "## Get Data"
   ]
  },
  {
   "cell_type": "code",
   "execution_count": 8,
   "metadata": {},
   "outputs": [
    {
     "name": "stdout",
     "output_type": "stream",
     "text": [
      "/Users/aborsa/Dropbox/research/bathymetry/analysis/code_new/notebooks/data/is2\n"
     ]
    }
   ],
   "source": [
    "#Create an output folder if the folder does not already exist.\n",
    "path = str(os.path.realpath('.') + '/data')\n",
    "if not os.path.exists(path):\n",
    "    os.mkdir(path)\n",
    "datadir = str(os.path.realpath('.') + '/data/is2')\n",
    "if not os.path.exists(datadir):\n",
    "    os.mkdir(datadir)\n",
    "print(datadir)\n",
    "current_dir = os.getcwd()"
   ]
  },
  {
   "cell_type": "code",
   "execution_count": 9,
   "metadata": {},
   "outputs": [
    {
     "name": "stdout",
     "output_type": "stream",
     "text": [
      "https://n5eil02u.ecs.nsidc.org/egi/request?short_name=ATL03&version=003&temporal=2018-10-13T00:00:00Z&bounding_box=-178.55,-18.76,-178.40,-18.61&bbox=-178.55,-18.76,-178.40,-18.61&page_size=100&token=99C1EA83-9503-021B-D75A-1B970350E20C&request_mode=async&page_num=1\n"
     ]
    }
   ],
   "source": [
    "#Convert API parameters to string\n",
    "param_string = '&'.join(\"{!s}={!r}\".format(k,v) for (k,v) in download_params.items())\n",
    "param_string = param_string.replace(\"'\",\"\")\n",
    "\n",
    "#Set API call\n",
    "API_request = api_request = f'{base_url}?{param_string}&page_num={1}'\n",
    "print(API_request)"
   ]
  },
  {
   "cell_type": "code",
   "execution_count": 10,
   "metadata": {},
   "outputs": [
    {
     "name": "stdout",
     "output_type": "stream",
     "text": [
      "Request HTTP response:  201\n",
      "Order request URL:  https://n5eil02u.ecs.nsidc.org/egi/request?short_name=ATL03&version=003&temporal=2018-10-13T00%3A00%3A00Z&bounding_box=-178.55%2C-18.76%2C-178.40%2C-18.61&bbox=-178.55%2C-18.76%2C-178.40%2C-18.61&page_size=100&token=99C1EA83-9503-021B-D75A-1B970350E20C&request_mode=async\n",
      "order ID:  5000000729577\n",
      "status URL:  https://n5eil02u.ecs.nsidc.org/egi/request/5000000729577\n",
      "HTTP response from order response URL:  201\n",
      "Initial request status is  processing\n",
      "Status is not complete. Trying again.\n",
      "Retry request status is:  processing\n",
      "Status is not complete. Trying again.\n",
      "Retry request status is:  processing\n",
      "Status is not complete. Trying again.\n",
      "Retry request status is:  complete\n"
     ]
    }
   ],
   "source": [
    "# For all requests other than spatial file upload, use get function\n",
    "session = requests.session()\n",
    "request = session.get(base_url, params=download_params)\n",
    "\n",
    "# Raise bad request: Loop will stop for bad response code.\n",
    "print('Request HTTP response: ', request.status_code)\n",
    "request.raise_for_status()\n",
    "print('Order request URL: ', request.url)\n",
    "esir_root = ET.fromstring(request.content)\n",
    "#print('Order request response XML content: ', request.content)\n",
    "\n",
    "#Look up order ID\n",
    "orderlist = []   \n",
    "for order in esir_root.findall(\"./order/\"):\n",
    "    orderlist.append(order.text)\n",
    "orderID = orderlist[0]\n",
    "print('order ID: ', orderID)\n",
    "\n",
    "#Create status URL\n",
    "statusURL = base_url + '/' + orderID\n",
    "print('status URL: ', statusURL)\n",
    "\n",
    "#Find order status\n",
    "request_response = session.get(statusURL, params=download_params)    \n",
    "print('HTTP response from order response URL: ', request_response.status_code)\n",
    "\n",
    "# Raise bad request: Loop will stop for bad response code.\n",
    "request_response.raise_for_status()\n",
    "request_root = ET.fromstring(request_response.content)\n",
    "statuslist = []\n",
    "for status in request_root.findall(\"./requestStatus/\"):\n",
    "    statuslist.append(status.text)\n",
    "status = statuslist[0]\n",
    "print('Initial request status is ', status)\n",
    "\n",
    "#Continue loop while request is still processing\n",
    "while status == 'pending' or status == 'processing': \n",
    "    print('Status is not complete. Trying again.')\n",
    "    time.sleep(10)\n",
    "    loop_response = session.get(statusURL, params=download_params)\n",
    "\n",
    "    # Raise bad request: Loop will stop for bad response code.\n",
    "    loop_response.raise_for_status()\n",
    "    loop_root = ET.fromstring(loop_response.content)\n",
    "\n",
    "    #find status\n",
    "    statuslist = []\n",
    "    for status in loop_root.findall(\"./requestStatus/\"):\n",
    "        statuslist.append(status.text)\n",
    "    status = statuslist[0]\n",
    "    print('Retry request status is: ', status)\n",
    "    if status == 'pending' or status == 'processing':\n",
    "        continue\n",
    "\n",
    "#Order can either complete, complete_with_errors, or fail:\n",
    "# Provide complete_with_errors error message:\n",
    "    if status == 'complete_with_errors' or status == 'failed':\n",
    "        messagelist = []\n",
    "        for message in loop_root.findall(\"./processInfo/\"):\n",
    "            messagelist.append(message.text)\n",
    "        print('error messages:')\n",
    "        pprint.pprint(messagelist)"
   ]
  },
  {
   "cell_type": "code",
   "execution_count": 15,
   "metadata": {},
   "outputs": [
    {
     "name": "stdout",
     "output_type": "stream",
     "text": [
      "Zip download URL:  https://n5eil02u.ecs.nsidc.org/esir/5000000729577.zip\n",
      "Beginning download of zipped output...\n"
     ]
    },
    {
     "ename": "HTTPError",
     "evalue": "401 Client Error: Unauthorized for url: https://urs.earthdata.nasa.gov/oauth/authorize?app_type=401&client_id=PGVMJ5nUzSnQkI5o23gMxA&response_type=code&redirect_uri=https%3A%2F%2Fn5eil02u.ecs.nsidc.org%2FOPS%2Fredirect&state=aHR0cHM6Ly9uNWVpbDAydS5lY3MubnNpZGMub3JnL2VzaXIvNTAwMDAwMDcyOTU3Ny56aXA%2Fc2hvcnRfbmFtZT1BVEwwMyZ2ZXJzaW9uPTAwMyZ0ZW1wb3JhbD0yMDE4LTEwLTEzVDAwJTNBMDAlM0EwMFomYm91bmRpbmdfYm94PS0xNzguNTUlMkMtMTguNzYlMkMtMTc4LjQwJTJDLTE4LjYxJmJib3g9LTE3OC41NSUyQy0xOC43NiUyQy0xNzguNDAlMkMtMTguNjEmcGFnZV9zaXplPTEwMCZ0b2tlbj05OUMxRUE4My05NTAzLTAyMUItRDc1QS0xQjk3MDM1MEUyMEMmcmVxdWVzdF9tb2RlPWFzeW5jJmVtYWlsPWFib3JzYSU0MHVjc2QuZWR1",
     "output_type": "error",
     "traceback": [
      "\u001b[0;31m---------------------------------------------------------------------------\u001b[0m",
      "\u001b[0;31mHTTPError\u001b[0m                                 Traceback (most recent call last)",
      "\u001b[0;32m<ipython-input-15-3f6e73c877b7>\u001b[0m in \u001b[0;36m<module>\u001b[0;34m\u001b[0m\n\u001b[1;32m      7\u001b[0m     \u001b[0mzip_response\u001b[0m \u001b[0;34m=\u001b[0m \u001b[0msession\u001b[0m\u001b[0;34m.\u001b[0m\u001b[0mget\u001b[0m\u001b[0;34m(\u001b[0m\u001b[0mdownloadURL\u001b[0m\u001b[0;34m,\u001b[0m \u001b[0mparams\u001b[0m\u001b[0;34m=\u001b[0m\u001b[0mdownload_params\u001b[0m\u001b[0;34m)\u001b[0m\u001b[0;34m\u001b[0m\u001b[0;34m\u001b[0m\u001b[0m\n\u001b[1;32m      8\u001b[0m     \u001b[0;31m# Raise bad request: Loop will stop for bad response code.\u001b[0m\u001b[0;34m\u001b[0m\u001b[0;34m\u001b[0m\u001b[0;34m\u001b[0m\u001b[0m\n\u001b[0;32m----> 9\u001b[0;31m     \u001b[0mzip_response\u001b[0m\u001b[0;34m.\u001b[0m\u001b[0mraise_for_status\u001b[0m\u001b[0;34m(\u001b[0m\u001b[0;34m)\u001b[0m\u001b[0;34m\u001b[0m\u001b[0;34m\u001b[0m\u001b[0m\n\u001b[0m\u001b[1;32m     10\u001b[0m     \u001b[0;32mwith\u001b[0m \u001b[0mzipfile\u001b[0m\u001b[0;34m.\u001b[0m\u001b[0mZipFile\u001b[0m\u001b[0;34m(\u001b[0m\u001b[0mio\u001b[0m\u001b[0;34m.\u001b[0m\u001b[0mBytesIO\u001b[0m\u001b[0;34m(\u001b[0m\u001b[0mzip_response\u001b[0m\u001b[0;34m.\u001b[0m\u001b[0mcontent\u001b[0m\u001b[0;34m)\u001b[0m\u001b[0;34m)\u001b[0m \u001b[0;32mas\u001b[0m \u001b[0mz\u001b[0m\u001b[0;34m:\u001b[0m\u001b[0;34m\u001b[0m\u001b[0;34m\u001b[0m\u001b[0m\n\u001b[1;32m     11\u001b[0m         \u001b[0mz\u001b[0m\u001b[0;34m.\u001b[0m\u001b[0mextractall\u001b[0m\u001b[0;34m(\u001b[0m\u001b[0mpath\u001b[0m\u001b[0;34m)\u001b[0m\u001b[0;34m\u001b[0m\u001b[0;34m\u001b[0m\u001b[0m\n",
      "\u001b[0;32m/Applications/anaconda3/lib/python3.7/site-packages/requests/models.py\u001b[0m in \u001b[0;36mraise_for_status\u001b[0;34m(self)\u001b[0m\n\u001b[1;32m    938\u001b[0m \u001b[0;34m\u001b[0m\u001b[0m\n\u001b[1;32m    939\u001b[0m         \u001b[0;32mif\u001b[0m \u001b[0mhttp_error_msg\u001b[0m\u001b[0;34m:\u001b[0m\u001b[0;34m\u001b[0m\u001b[0;34m\u001b[0m\u001b[0m\n\u001b[0;32m--> 940\u001b[0;31m             \u001b[0;32mraise\u001b[0m \u001b[0mHTTPError\u001b[0m\u001b[0;34m(\u001b[0m\u001b[0mhttp_error_msg\u001b[0m\u001b[0;34m,\u001b[0m \u001b[0mresponse\u001b[0m\u001b[0;34m=\u001b[0m\u001b[0mself\u001b[0m\u001b[0;34m)\u001b[0m\u001b[0;34m\u001b[0m\u001b[0;34m\u001b[0m\u001b[0m\n\u001b[0m\u001b[1;32m    941\u001b[0m \u001b[0;34m\u001b[0m\u001b[0m\n\u001b[1;32m    942\u001b[0m     \u001b[0;32mdef\u001b[0m \u001b[0mclose\u001b[0m\u001b[0;34m(\u001b[0m\u001b[0mself\u001b[0m\u001b[0;34m)\u001b[0m\u001b[0;34m:\u001b[0m\u001b[0;34m\u001b[0m\u001b[0;34m\u001b[0m\u001b[0m\n",
      "\u001b[0;31mHTTPError\u001b[0m: 401 Client Error: Unauthorized for url: https://urs.earthdata.nasa.gov/oauth/authorize?app_type=401&client_id=PGVMJ5nUzSnQkI5o23gMxA&response_type=code&redirect_uri=https%3A%2F%2Fn5eil02u.ecs.nsidc.org%2FOPS%2Fredirect&state=aHR0cHM6Ly9uNWVpbDAydS5lY3MubnNpZGMub3JnL2VzaXIvNTAwMDAwMDcyOTU3Ny56aXA%2Fc2hvcnRfbmFtZT1BVEwwMyZ2ZXJzaW9uPTAwMyZ0ZW1wb3JhbD0yMDE4LTEwLTEzVDAwJTNBMDAlM0EwMFomYm91bmRpbmdfYm94PS0xNzguNTUlMkMtMTguNzYlMkMtMTc4LjQwJTJDLTE4LjYxJmJib3g9LTE3OC41NSUyQy0xOC43NiUyQy0xNzguNDAlMkMtMTguNjEmcGFnZV9zaXplPTEwMCZ0b2tlbj05OUMxRUE4My05NTAzLTAyMUItRDc1QS0xQjk3MDM1MEUyMEMmcmVxdWVzdF9tb2RlPWFzeW5jJmVtYWlsPWFib3JzYSU0MHVjc2QuZWR1"
     ]
    }
   ],
   "source": [
    "# Download zipped order if status is complete or complete_with_errors\n",
    "if status == 'complete' or status == 'complete_with_errors':\n",
    "    #os.chdir(datadir)\n",
    "    downloadURL = 'https://n5eil02u.ecs.nsidc.org/esir/' + orderID + '.zip'\n",
    "    print('Zip download URL: ', downloadURL)\n",
    "    print('Beginning download of zipped output...')\n",
    "    zip_response = session.get(downloadURL, params=download_params)\n",
    "    # Raise bad request: Loop will stop for bad response code.\n",
    "    zip_response.raise_for_status()\n",
    "    with zipfile.ZipFile(io.BytesIO(zip_response.content)) as z:\n",
    "        z.extractall(path)\n",
    "    print('Data request is complete.')\n",
    "    #os.chdir(current_directory)\n",
    "else: print('Request failed.')"
   ]
  },
  {
   "cell_type": "code",
   "execution_count": null,
   "metadata": {},
   "outputs": [],
   "source": []
  }
 ],
 "metadata": {
  "kernelspec": {
   "display_name": "Python 3",
   "language": "python",
   "name": "python3"
  },
  "language_info": {
   "codemirror_mode": {
    "name": "ipython",
    "version": 3
   },
   "file_extension": ".py",
   "mimetype": "text/x-python",
   "name": "python",
   "nbconvert_exporter": "python",
   "pygments_lexer": "ipython3",
   "version": "3.8.2"
  }
 },
 "nbformat": 4,
 "nbformat_minor": 2
}
