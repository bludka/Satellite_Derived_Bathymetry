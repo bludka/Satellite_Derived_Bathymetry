{
 "cells": [
  {
   "cell_type": "markdown",
   "metadata": {},
   "source": [
    "# Overview"
   ]
  },
  {
   "cell_type": "markdown",
   "metadata": {},
   "source": [
    "This document covers the transformation of ICESat-2 photon data over a target reef to depth estimates that will be used to calibrate Sentinel-2 bathymetry estimates.  The code is located in <i><b>/src/Depth_profile.py</i></b> from Karan Sunil's \"Coral-Reef-Bathymetry\" distribution from GitHub. "
   ]
  },
  {
   "cell_type": "markdown",
   "metadata": {},
   "source": [
    "## 1.) Import packages"
   ]
  },
  {
   "cell_type": "markdown",
   "metadata": {},
   "source": [
    "To begin, make sure this notebook is located and launched from the directory containing <i><b>Depth_profile.py</i></b> and the other python files in Karan's distribution. After the imports below, any function available in <i><b>Depth_profile.py</i></b> can be called from this notebook with the syntax: depth.function_name(parameters). The same goes for the other imported python files."
   ]
  },
  {
   "cell_type": "code",
   "execution_count": 1,
   "metadata": {},
   "outputs": [],
   "source": [
    "import h5py\n",
    "import json\n",
    "import os\n",
    "import sys\n",
    "import requests\n",
    "import numpy as np\n",
    "import pandas as pd\n",
    "from datetime import datetime\n",
    "\n",
    "import Depth_profile as depth\n",
    "import Coral_Reef as coral_reef\n",
    "import IS2_file as is2File\n",
    "import Tide_API as tide"
   ]
  },
  {
   "cell_type": "markdown",
   "metadata": {},
   "source": [
    "## 2.) Create directories and files needed for depth processing"
   ]
  },
  {
   "cell_type": "markdown",
   "metadata": {},
   "source": [
    "In working directory, there should be a folder called <i><b>data</i></b> containing a subfolder for each reef being analyzed.  Within each subfolder should be the following folders/files:"
   ]
  },
  {
   "cell_type": "markdown",
   "metadata": {},
   "source": [
    "<blockquote><b>A.)</b> a GeoJSON file containing the outline of the reef, named <i><b>reef_name.geojson</i></b>.  This file is obtained from http://geojson.io/#map=2/20.0/0.0.  Switch to \"OSM model\" in bottom left corner of window, mark the boundary of reef with the cursor, save points using the menu at upper left (save->GeoJSON), then rename map.geojson file and move to data directory.\n",
    "<p>\n",
    "<b>B.)</b> a folder named <i><b>H5</i></b> which contains ICESat-2 ATL03 data files for this reef.  These are HDF5 files that can be obtained from OpenAltimetry (http://www.openaltimetry.org) or from NASA EarthData search (https://search.earthdata.nasa.gov/search/granules?p=C1705401930-NSIDC_ECS)\n",
    "<p>\n",
    "<b>C.)</b> a file called <i><b>reef_name.text</i></b> containing metadata.  The format must be:<br>\n",
    "<blockquote>Coordinates: <p>\n",
    "[min_lat, max_lat, min_lon, max_lon] <br><br>H5 Files:<br>List of all h5 files in folder H5, one file per line.</blockquote></blockquote>"
   ]
  },
  {
   "cell_type": "markdown",
   "metadata": {},
   "source": [
    "## 3.) Input metadata for reef processing"
   ]
  },
  {
   "cell_type": "markdown",
   "metadata": {},
   "source": [
    "Setting reef processing parameters can be done programatically via <i><b>run_bathymetry.py</i></b> which updates <i><b>config/data-params.json</i></b>. Here these parameters are set via the command line."
   ]
  },
  {
   "cell_type": "code",
   "execution_count": 2,
   "metadata": {},
   "outputs": [],
   "source": [
    "reef_name = 'nasau'\n",
    "data_dir = '/Users/aborsa/Dropbox/research/bathymetry/analysis/run_bathymetry/data/'\n",
    "start_date = '20181101'\n",
    "end_date = '20200601'\n",
    "redownload_is2 = True\n",
    "earthdata_login = 'aborsa'\n",
    "earthdata_password = ''\n",
    "world_tide_API_key = 'fee8ff39-48eb-42a7-bcc5-3819fce3c1e4'"
   ]
  },
  {
   "cell_type": "markdown",
   "metadata": {},
   "source": [
    "## 4.) Initialize Coral_Reef( ) data object"
   ]
  },
  {
   "cell_type": "markdown",
   "metadata": {},
   "source": [
    "Create a Coral_Reef object to hold metadata for each reef. Take a look in Coral_Reef.py for the methods and variables defined for the Coral_Reef class. Also note that the get_bounding_box( ) method queries <i><b>reef_name.txt</i></b> to grab the reef bounding box coordinates."
   ]
  },
  {
   "cell_type": "code",
   "execution_count": 3,
   "metadata": {},
   "outputs": [],
   "source": [
    "reef = coral_reef.Coral_Reef(data_dir, reef_name)"
   ]
  },
  {
   "cell_type": "markdown",
   "metadata": {},
   "source": [
    "## 5.) Initialize is2_file( ) data object"
   ]
  },
  {
   "cell_type": "markdown",
   "metadata": {},
   "source": [
    "Assuming for now that the ICESat-2 data have been downloaded and dropped into the <i><b>H5</i></b> directory, we will work with the <i><b>second</i></b> file for the example below:"
   ]
  },
  {
   "cell_type": "code",
   "execution_count": 4,
   "metadata": {
    "scrolled": true
   },
   "outputs": [
    {
     "name": "stdout",
     "output_type": "stream",
     "text": [
      "/Users/aborsa/Dropbox/research/bathymetry/analysis/run_bathymetry/data/nasau/H5\n",
      "processed_ATL03_20181115015855_07240114_003_01.h5\n",
      "processed_ATL03_20181115015855_07240114_003_01\n",
      "These are the strong beams for this file: ['gt1r', 'gt2r', 'gt3r']\n"
     ]
    }
   ],
   "source": [
    "#Identify first ICESat-2 HDF5 file\n",
    "h5_dir = os.path.join(reef.get_path(),'H5')\n",
    "h5_fn = [f for f in os.listdir(h5_dir) if not f.startswith('.')]\n",
    "h5_fn.sort()\n",
    "h5_fn = h5_fn[0]\n",
    "print(h5_dir)\n",
    "print(h5_fn)\n",
    "\n",
    "#Inititalize ICESat-2 file object\n",
    "is2 = is2File.IS2_file(h5_dir, h5_fn, reef.bbox_coords)\n",
    "is2_file_tag = is2.get_file_tag()\n",
    "print(is2_file_tag)\n",
    "print('These are the strong beams for this file: {}'.format(is2.get_strong_lasers()))\n",
    "\n",
    "#Get paths to all needed directories from reef object\n",
    "icesat_fp, proc_fp, images_fp,data_plots_path = reef.get_file_drectories()"
   ]
  },
  {
   "cell_type": "code",
   "execution_count": 5,
   "metadata": {},
   "outputs": [
    {
     "name": "stdout",
     "output_type": "stream",
     "text": [
      "gt1r\n"
     ]
    },
    {
     "ename": "NameError",
     "evalue": "name 'metadata' is not defined",
     "output_type": "error",
     "traceback": [
      "\u001b[0;31m---------------------------------------------------------------------------\u001b[0m",
      "\u001b[0;31mNameError\u001b[0m                                 Traceback (most recent call last)",
      "\u001b[0;32m<ipython-input-5-18fe3efa1e69>\u001b[0m in \u001b[0;36m<module>\u001b[0;34m\u001b[0m\n\u001b[0;32m----> 1\u001b[0;31m \u001b[0mdepth\u001b[0m\u001b[0;34m.\u001b[0m\u001b[0mprocess_h5\u001b[0m\u001b[0;34m(\u001b[0m\u001b[0mreef\u001b[0m\u001b[0;34m,\u001b[0m \u001b[0mis2\u001b[0m\u001b[0;34m)\u001b[0m\u001b[0;34m\u001b[0m\u001b[0;34m\u001b[0m\u001b[0m\n\u001b[0m",
      "\u001b[0;32m~/Dropbox/research/bathymetry/analysis/run_bathymetry/Depth_profile.py\u001b[0m in \u001b[0;36mprocess_h5\u001b[0;34m(reef, is2_file)\u001b[0m\n\u001b[1;32m    282\u001b[0m         \u001b[0;31m# photons = convert_h5_to_csv(is2_file,laser,photons_path)\u001b[0m\u001b[0;34m\u001b[0m\u001b[0;34m\u001b[0m\u001b[0;34m\u001b[0m\u001b[0m\n\u001b[1;32m    283\u001b[0m         \u001b[0;32mif\u001b[0m \u001b[0;32mnot\u001b[0m \u001b[0mos\u001b[0m\u001b[0;34m.\u001b[0m\u001b[0mpath\u001b[0m\u001b[0;34m.\u001b[0m\u001b[0mexists\u001b[0m\u001b[0;34m(\u001b[0m\u001b[0mphotons_path\u001b[0m\u001b[0;34m)\u001b[0m\u001b[0;34m:\u001b[0m\u001b[0;34m\u001b[0m\u001b[0;34m\u001b[0m\u001b[0m\n\u001b[0;32m--> 284\u001b[0;31m             \u001b[0mphotons\u001b[0m \u001b[0;34m=\u001b[0m \u001b[0mconvert_h5_to_csv\u001b[0m\u001b[0;34m(\u001b[0m\u001b[0mis2_file\u001b[0m\u001b[0;34m,\u001b[0m\u001b[0mlaser\u001b[0m\u001b[0;34m,\u001b[0m\u001b[0mphotons_path\u001b[0m\u001b[0;34m)\u001b[0m\u001b[0;34m\u001b[0m\u001b[0;34m\u001b[0m\u001b[0m\n\u001b[0m\u001b[1;32m    285\u001b[0m         \u001b[0;32melse\u001b[0m\u001b[0;34m:\u001b[0m\u001b[0;34m\u001b[0m\u001b[0;34m\u001b[0m\u001b[0m\n\u001b[1;32m    286\u001b[0m             \u001b[0mphotons\u001b[0m \u001b[0;34m=\u001b[0m \u001b[0mpd\u001b[0m\u001b[0;34m.\u001b[0m\u001b[0mread_csv\u001b[0m\u001b[0;34m(\u001b[0m\u001b[0mphotons_path\u001b[0m\u001b[0;34m)\u001b[0m\u001b[0;34m\u001b[0m\u001b[0;34m\u001b[0m\u001b[0m\n",
      "\u001b[0;32m~/Dropbox/research/bathymetry/analysis/run_bathymetry/Depth_profile.py\u001b[0m in \u001b[0;36mconvert_h5_to_csv\u001b[0;34m(is2_file, laser, out_fp)\u001b[0m\n\u001b[1;32m     54\u001b[0m     \u001b[0mcoords\u001b[0m \u001b[0;34m=\u001b[0m \u001b[0mis2_file\u001b[0m\u001b[0;34m.\u001b[0m\u001b[0mget_bbox_coordinates\u001b[0m\u001b[0;34m(\u001b[0m\u001b[0;34m)\u001b[0m\u001b[0;34m\u001b[0m\u001b[0;34m\u001b[0m\u001b[0m\n\u001b[1;32m     55\u001b[0m     \u001b[0mmin_longitude\u001b[0m\u001b[0;34m,\u001b[0m\u001b[0mmin_latitude\u001b[0m\u001b[0;34m,\u001b[0m\u001b[0mmax_longitude\u001b[0m\u001b[0;34m,\u001b[0m\u001b[0mmax_latitude\u001b[0m \u001b[0;34m=\u001b[0m \u001b[0mcoords\u001b[0m\u001b[0;34m\u001b[0m\u001b[0;34m\u001b[0m\u001b[0m\n\u001b[0;32m---> 56\u001b[0;31m     \u001b[0mtide_level\u001b[0m \u001b[0;34m=\u001b[0m \u001b[0mis2_file\u001b[0m\u001b[0;34m.\u001b[0m\u001b[0mget_tide\u001b[0m\u001b[0;34m(\u001b[0m\u001b[0;34m)\u001b[0m\u001b[0;34m\u001b[0m\u001b[0;34m\u001b[0m\u001b[0m\n\u001b[0m\u001b[1;32m     57\u001b[0m \u001b[0;34m\u001b[0m\u001b[0m\n\u001b[1;32m     58\u001b[0m     \u001b[0;31m#gets the coordinates that are within the coordinates of the bounding box\u001b[0m\u001b[0;34m\u001b[0m\u001b[0;34m\u001b[0m\u001b[0;34m\u001b[0m\u001b[0m\n",
      "\u001b[0;32m~/Dropbox/research/bathymetry/analysis/run_bathymetry/IS2_file.py\u001b[0m in \u001b[0;36mget_tide\u001b[0;34m(self)\u001b[0m\n\u001b[1;32m     95\u001b[0m         \"\"\"\n\u001b[1;32m     96\u001b[0m         \u001b[0;31m#load in tide or calculate it if it doesnt exist\u001b[0m\u001b[0;34m\u001b[0m\u001b[0;34m\u001b[0m\u001b[0;34m\u001b[0m\u001b[0m\n\u001b[0;32m---> 97\u001b[0;31m         \u001b[0;32mif\u001b[0m \u001b[0;34m'tide'\u001b[0m \u001b[0;32min\u001b[0m \u001b[0mmetadata\u001b[0m\u001b[0;34m[\u001b[0m\u001b[0mself\u001b[0m\u001b[0;34m.\u001b[0m\u001b[0mh5_fn\u001b[0m\u001b[0;34m]\u001b[0m\u001b[0;34m:\u001b[0m\u001b[0;34m\u001b[0m\u001b[0;34m\u001b[0m\u001b[0m\n\u001b[0m\u001b[1;32m     98\u001b[0m             \u001b[0mself\u001b[0m\u001b[0;34m.\u001b[0m\u001b[0mtide_level\u001b[0m \u001b[0;34m=\u001b[0m \u001b[0mmetadata\u001b[0m\u001b[0;34m[\u001b[0m\u001b[0mself\u001b[0m\u001b[0;34m.\u001b[0m\u001b[0mh5_fn\u001b[0m\u001b[0;34m]\u001b[0m\u001b[0;34m[\u001b[0m\u001b[0;34m'tide'\u001b[0m\u001b[0;34m]\u001b[0m\u001b[0;34m\u001b[0m\u001b[0;34m\u001b[0m\u001b[0m\n\u001b[1;32m     99\u001b[0m         \u001b[0;32melse\u001b[0m\u001b[0;34m:\u001b[0m\u001b[0;34m\u001b[0m\u001b[0;34m\u001b[0m\u001b[0m\n",
      "\u001b[0;31mNameError\u001b[0m: name 'metadata' is not defined"
     ]
    }
   ],
   "source": [
    "depth.process_h5(reef, is2)"
   ]
  },
  {
   "cell_type": "code",
   "execution_count": null,
   "metadata": {},
   "outputs": [],
   "source": []
  }
 ],
 "metadata": {
  "kernelspec": {
   "display_name": "Python 3",
   "language": "python",
   "name": "python3"
  },
  "language_info": {
   "codemirror_mode": {
    "name": "ipython",
    "version": 3
   },
   "file_extension": ".py",
   "mimetype": "text/x-python",
   "name": "python",
   "nbconvert_exporter": "python",
   "pygments_lexer": "ipython3",
   "version": "3.8.2"
  }
 },
 "nbformat": 4,
 "nbformat_minor": 4
}
