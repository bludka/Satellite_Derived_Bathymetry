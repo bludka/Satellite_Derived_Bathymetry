{
 "cells": [
  {
   "cell_type": "code",
   "execution_count": 29,
   "metadata": {},
   "outputs": [
    {
     "name": "stdout",
     "output_type": "stream",
     "text": [
      "[(-1573140388, 211077290, -1592, 126, 73, 29, 23, 249, 4, 65394076.13611805)\n",
      " (-1573140659, 211077270, -1596, 129, 73, 29,  0, 249, 4, 65394076.13622105)\n",
      " (-1573140913, 211077246, -1614, 123, 73, 29,  0, 249, 4, 65394076.13631999)\n",
      " ...\n",
      " (-1573055575, 211026192,  2399,   1, 81,  1, 17, 155, 1, 68421077.33307195)\n",
      " (-1573055574, 211026277,  2562,   7, 81,  1, 17,  62, 1, 68421077.33307195)\n",
      " (-1573055572, 211026252,  2409,   1, 81,  1, 17,   0, 1, 68421077.33307195)]\n",
      "Points from Header: 8406311\n",
      "<LasData(1.2, point fmt: <PointFormat(1)>, 8406311 points, 3 vlrs)>\n",
      "Points from data: 8406311\n",
      "Ground Point Return Number distribution:\n",
      "    1:225134\n",
      "    2:135094\n",
      "    3:125921\n",
      "    4:64045\n",
      "    5:23110\n"
     ]
    }
   ],
   "source": [
    "#from laspy.file import File\n",
    "import numpy as np\n",
    "\n",
    "import pylas\n",
    "laz = pylas.read('Molokai/USACE_NCMP_Topobathy_Lidar_2013_Molokai_GEOID12B/20131106_ncmp_hi_molokai_4QFJ9232.laz')\n",
    "\n",
    "lzp = laz.points\n",
    "print(lzp)\n",
    "\n",
    "with pylas.open('Molokai/USACE_NCMP_Topobathy_Lidar_2013_Molokai_GEOID12B/20131106_ncmp_hi_molokai_4QFJ9232.laz') as fh:\n",
    "    print('Points from Header:', fh.header.point_count)\n",
    "    laz = fh.read()\n",
    "    print(laz)\n",
    "    print('Points from data:', len(laz.points))\n",
    "    ground_pts = laz.classification == 2\n",
    "    bins, counts = np.unique(laz.return_number[ground_pts], return_counts=True)\n",
    "    print('Ground Point Return Number distribution:')\n",
    "    for r,c in zip(bins,counts):\n",
    "        print('    {}:{}'.format(r,c))\n",
    "\n",
    "#inFile = File('Molokai/USACE_NCMP_Topobathy_Lidar_2013_Molokai/20131009_ncmp_hi_molokai_4QFJ7332.laz', mode='r')\n",
    "\n",
    "#I = inFile.Classification == 2\n",
    "\n",
    "#outFile = File('/path/to/output.las', mode='w', header=inFile.header)\n",
    "#outFile.points = inFile.points[I]\n",
    "#outFile.close()\n",
    "\n",
    "#import matplotlib.pyplot as plt\n",
    "#%matplotlib inline\n",
    "#fig = plt.figure(figsize=[20, 5])\n",
    "#ax = plt.axes(projection='3d')\n",
    "#sc = ax.scatter(inFile.x, inFile.y, inFile.z, c=inFile.z ,s=0.1, marker='o', cmap=\"Spectral\")\n",
    "#plt.colorbar(sc)\n",
    "#plt.show()"
   ]
  },
  {
   "cell_type": "code",
   "execution_count": 6,
   "metadata": {},
   "outputs": [
    {
     "data": {
      "text/plain": [
       "pylas.lasdatas.las12.LasData"
      ]
     },
     "execution_count": 6,
     "metadata": {},
     "output_type": "execute_result"
    }
   ],
   "source": [
    "type(laz)"
   ]
  },
  {
   "cell_type": "code",
   "execution_count": 31,
   "metadata": {},
   "outputs": [
    {
     "name": "stdout",
     "output_type": "stream",
     "text": [
      "[<VLR(user_id: 'NIIRS10', record_id: '4', data len: 10)>, <VLR(user_id: 'NIIRS10', record_id: '1', data len: 26)>, <GeoKeyDirectoryVlr(5 geo_keys)>]\n"
     ]
    }
   ],
   "source": [
    "with pylas.open('Molokai/USACE_NCMP_Topobathy_Lidar_2013_Molokai_GEOID12B/20131106_ncmp_hi_molokai_4QFJ9232.laz') as f:\n",
    "    if f.header.point_count < 10 ** 8:\n",
    "        las = f.read()\n",
    "print(las.vlrs)"
   ]
  },
  {
   "cell_type": "code",
   "execution_count": 14,
   "metadata": {},
   "outputs": [
    {
     "name": "stdout",
     "output_type": "stream",
     "text": [
      "Help on package pylas:\n",
      "\n",
      "NAME\n",
      "    pylas\n",
      "\n",
      "PACKAGE CONTENTS\n",
      "    checking\n",
      "    compression\n",
      "    errors\n",
      "    evlrs\n",
      "    extradims\n",
      "    headers (package)\n",
      "    lasdatas (package)\n",
      "    lasmmap\n",
      "    lasreader\n",
      "    lib\n",
      "    point (package)\n",
      "    utils\n",
      "    vlrs (package)\n",
      "\n",
      "VERSION\n",
      "    0.4.3\n",
      "\n",
      "FILE\n",
      "    /Users/bonnieludka/opt/anaconda3/lib/python3.8/site-packages/pylas/__init__.py\n",
      "\n",
      "\n"
     ]
    }
   ],
   "source": [
    "help(pylas)"
   ]
  },
  {
   "cell_type": "code",
   "execution_count": 20,
   "metadata": {},
   "outputs": [
    {
     "data": {
      "text/plain": [
       "<LasHeader(1.2)>"
      ]
     },
     "execution_count": 20,
     "metadata": {},
     "output_type": "execute_result"
    }
   ],
   "source": [
    "f.header"
   ]
  },
  {
   "cell_type": "code",
   "execution_count": 26,
   "metadata": {},
   "outputs": [
    {
     "ename": "AttributeError",
     "evalue": "'LasReader' object has no attribute 'headers'",
     "output_type": "error",
     "traceback": [
      "\u001b[0;31m---------------------------------------------------------------------------\u001b[0m",
      "\u001b[0;31mAttributeError\u001b[0m                            Traceback (most recent call last)",
      "\u001b[0;32m<ipython-input-26-910234ba4a6b>\u001b[0m in \u001b[0;36m<module>\u001b[0;34m\u001b[0m\n\u001b[0;32m----> 1\u001b[0;31m \u001b[0mf\u001b[0m\u001b[0;34m.\u001b[0m\u001b[0mheaders\u001b[0m\u001b[0;34m\u001b[0m\u001b[0;34m\u001b[0m\u001b[0m\n\u001b[0m",
      "\u001b[0;31mAttributeError\u001b[0m: 'LasReader' object has no attribute 'headers'"
     ]
    }
   ],
   "source": [
    "f.headers"
   ]
  },
  {
   "cell_type": "code",
   "execution_count": null,
   "metadata": {},
   "outputs": [],
   "source": []
  }
 ],
 "metadata": {
  "kernelspec": {
   "display_name": "Python 3",
   "language": "python",
   "name": "python3"
  },
  "language_info": {
   "codemirror_mode": {
    "name": "ipython",
    "version": 3
   },
   "file_extension": ".py",
   "mimetype": "text/x-python",
   "name": "python",
   "nbconvert_exporter": "python",
   "pygments_lexer": "ipython3",
   "version": "3.8.3"
  }
 },
 "nbformat": 4,
 "nbformat_minor": 4
}
