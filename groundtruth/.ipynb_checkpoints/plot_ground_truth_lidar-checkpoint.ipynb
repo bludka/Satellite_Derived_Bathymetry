{
 "cells": [
  {
   "cell_type": "code",
   "execution_count": null,
   "metadata": {},
   "outputs": [],
   "source": [
    "from laspy.file import File\n",
    "import numpy as np\n",
    "\n",
    "inFile = File('Molokai/USACE_NCMP_Topobathy_Lidar_2013_Molokai/20131009_ncmp_hi_molokai_4QFJ7332.laz', mode='r')\n",
    "\n",
    "I = inFile.Classification == 2\n",
    "\n",
    "outFile = File('/path/to/output.las', mode='w', header=inFile.header)\n",
    "outFile.points = inFile.points[I]\n",
    "outFile.close()"
   ]
  }
 ],
 "metadata": {
  "kernelspec": {
   "display_name": "Python 3",
   "language": "python",
   "name": "python3"
  },
  "language_info": {
   "codemirror_mode": {
    "name": "ipython",
    "version": 3
   },
   "file_extension": ".py",
   "mimetype": "text/x-python",
   "name": "python",
   "nbconvert_exporter": "python",
   "pygments_lexer": "ipython3",
   "version": "3.8.3"
  }
 },
 "nbformat": 4,
 "nbformat_minor": 4
}
